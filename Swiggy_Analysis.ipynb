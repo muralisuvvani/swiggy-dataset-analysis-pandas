{
 "cells": [
  {
   "cell_type": "code",
   "execution_count": 2,
   "id": "1c1d0d51-060d-4426-97d1-38a4bc140303",
   "metadata": {},
   "outputs": [],
   "source": [
    "import pandas as pd\n",
    "import numpy as np"
   ]
  },
  {
   "cell_type": "code",
   "execution_count": 3,
   "id": "60b0d7dd-ab38-4294-a67d-fe660cb62cd8",
   "metadata": {},
   "outputs": [],
   "source": [
    "df=pd.read_csv(\"swiggy_all_menus_india.csv\")"
   ]
  },
  {
   "cell_type": "code",
   "execution_count": 4,
   "id": "3bb2d748-c267-464a-a557-3261f6ee879b",
   "metadata": {},
   "outputs": [
    {
     "data": {
      "text/html": [
       "<div>\n",
       "<style scoped>\n",
       "    .dataframe tbody tr th:only-of-type {\n",
       "        vertical-align: middle;\n",
       "    }\n",
       "\n",
       "    .dataframe tbody tr th {\n",
       "        vertical-align: top;\n",
       "    }\n",
       "\n",
       "    .dataframe thead th {\n",
       "        text-align: right;\n",
       "    }\n",
       "</style>\n",
       "<table border=\"1\" class=\"dataframe\">\n",
       "  <thead>\n",
       "    <tr style=\"text-align: right;\">\n",
       "      <th></th>\n",
       "      <th>State</th>\n",
       "      <th>City</th>\n",
       "      <th>Restaurant Name</th>\n",
       "      <th>Location</th>\n",
       "      <th>Category</th>\n",
       "      <th>Dish Name</th>\n",
       "      <th>Price (INR)</th>\n",
       "      <th>Rating</th>\n",
       "      <th>Rating Count</th>\n",
       "    </tr>\n",
       "  </thead>\n",
       "  <tbody>\n",
       "    <tr>\n",
       "      <th>0</th>\n",
       "      <td>Karnataka</td>\n",
       "      <td>Bengaluru</td>\n",
       "      <td>Anand Sweets &amp; Savouries</td>\n",
       "      <td>Rajarajeshwari Nagar</td>\n",
       "      <td>Snack</td>\n",
       "      <td>Butter Murukku-200gm</td>\n",
       "      <td>133.9</td>\n",
       "      <td>0.0</td>\n",
       "      <td>0</td>\n",
       "    </tr>\n",
       "    <tr>\n",
       "      <th>1</th>\n",
       "      <td>Karnataka</td>\n",
       "      <td>Bengaluru</td>\n",
       "      <td>Srinidhi Sagar Deluxe</td>\n",
       "      <td>Kengeri</td>\n",
       "      <td>Recommended</td>\n",
       "      <td>Badam Milk</td>\n",
       "      <td>52.0</td>\n",
       "      <td>4.5</td>\n",
       "      <td>25</td>\n",
       "    </tr>\n",
       "    <tr>\n",
       "      <th>2</th>\n",
       "      <td>Karnataka</td>\n",
       "      <td>Bengaluru</td>\n",
       "      <td>Srinidhi Sagar Deluxe</td>\n",
       "      <td>Kengeri</td>\n",
       "      <td>Recommended</td>\n",
       "      <td>Chow Chow Bath</td>\n",
       "      <td>117.0</td>\n",
       "      <td>4.7</td>\n",
       "      <td>48</td>\n",
       "    </tr>\n",
       "    <tr>\n",
       "      <th>3</th>\n",
       "      <td>Karnataka</td>\n",
       "      <td>Bengaluru</td>\n",
       "      <td>Srinidhi Sagar Deluxe</td>\n",
       "      <td>Kengeri</td>\n",
       "      <td>Recommended</td>\n",
       "      <td>Kesari Bath</td>\n",
       "      <td>65.0</td>\n",
       "      <td>4.6</td>\n",
       "      <td>65</td>\n",
       "    </tr>\n",
       "    <tr>\n",
       "      <th>4</th>\n",
       "      <td>Karnataka</td>\n",
       "      <td>Bengaluru</td>\n",
       "      <td>Srinidhi Sagar Deluxe</td>\n",
       "      <td>Kengeri</td>\n",
       "      <td>Recommended</td>\n",
       "      <td>Mix Raitha</td>\n",
       "      <td>130.0</td>\n",
       "      <td>0.0</td>\n",
       "      <td>0</td>\n",
       "    </tr>\n",
       "  </tbody>\n",
       "</table>\n",
       "</div>"
      ],
      "text/plain": [
       "       State       City           Restaurant Name              Location  \\\n",
       "0  Karnataka  Bengaluru  Anand Sweets & Savouries  Rajarajeshwari Nagar   \n",
       "1  Karnataka  Bengaluru     Srinidhi Sagar Deluxe               Kengeri   \n",
       "2  Karnataka  Bengaluru     Srinidhi Sagar Deluxe               Kengeri   \n",
       "3  Karnataka  Bengaluru     Srinidhi Sagar Deluxe               Kengeri   \n",
       "4  Karnataka  Bengaluru     Srinidhi Sagar Deluxe               Kengeri   \n",
       "\n",
       "      Category             Dish Name  Price (INR)  Rating  Rating Count  \n",
       "0        Snack  Butter Murukku-200gm        133.9     0.0             0  \n",
       "1  Recommended            Badam Milk         52.0     4.5            25  \n",
       "2  Recommended        Chow Chow Bath        117.0     4.7            48  \n",
       "3  Recommended           Kesari Bath         65.0     4.6            65  \n",
       "4  Recommended            Mix Raitha        130.0     0.0             0  "
      ]
     },
     "execution_count": 4,
     "metadata": {},
     "output_type": "execute_result"
    }
   ],
   "source": [
    "df.head()"
   ]
  },
  {
   "cell_type": "code",
   "execution_count": 5,
   "id": "5d0c1d7b-94a9-4eac-8fab-8757ecbeead2",
   "metadata": {},
   "outputs": [
    {
     "data": {
      "text/plain": [
       "(197430, 9)"
      ]
     },
     "execution_count": 5,
     "metadata": {},
     "output_type": "execute_result"
    }
   ],
   "source": [
    "df.shape"
   ]
  },
  {
   "cell_type": "code",
   "execution_count": 6,
   "id": "4823ee44-8efc-4c5e-b9f1-4227bcb781dd",
   "metadata": {},
   "outputs": [
    {
     "data": {
      "text/plain": [
       "Index(['State', 'City', 'Restaurant Name', 'Location', 'Category', 'Dish Name',\n",
       "       'Price (INR)', 'Rating', 'Rating Count'],\n",
       "      dtype='object')"
      ]
     },
     "execution_count": 6,
     "metadata": {},
     "output_type": "execute_result"
    }
   ],
   "source": [
    "df.columns"
   ]
  },
  {
   "cell_type": "code",
   "execution_count": 7,
   "id": "0396689e-14eb-4519-93bd-ee832cc98415",
   "metadata": {},
   "outputs": [],
   "source": [
    "df.rename(columns={'Price (INR)':'Price'},inplace=True)"
   ]
  },
  {
   "cell_type": "markdown",
   "id": "b4520c6c-9472-42e0-a023-41ba06dffb9a",
   "metadata": {},
   "source": [
    "# renaming columns to snake_case (column normalization)"
   ]
  },
  {
   "cell_type": "code",
   "execution_count": 8,
   "id": "63e61ef7-0292-4e28-9680-8ca7c614b20f",
   "metadata": {},
   "outputs": [],
   "source": [
    "df.columns=df.columns.str.strip().str.lower().str.replace(\" \",\"_\")"
   ]
  },
  {
   "cell_type": "code",
   "execution_count": 9,
   "id": "ca2f953f-88d5-4bf0-9ca7-16ec9b17a6f6",
   "metadata": {},
   "outputs": [
    {
     "data": {
      "text/plain": [
       "Index(['state', 'city', 'restaurant_name', 'location', 'category', 'dish_name',\n",
       "       'price', 'rating', 'rating_count'],\n",
       "      dtype='object')"
      ]
     },
     "execution_count": 9,
     "metadata": {},
     "output_type": "execute_result"
    }
   ],
   "source": [
    "df.columns"
   ]
  },
  {
   "cell_type": "markdown",
   "id": "7d9984fa-1266-4eba-8bc3-af7f0bb4cf6a",
   "metadata": {},
   "source": [
    "# 1. Clean the dataset"
   ]
  },
  {
   "cell_type": "markdown",
   "id": "b569ce6c-093a-4233-9ae9-e5c972def49c",
   "metadata": {},
   "source": [
    "○ Handle missing values (fill or drop as required).\n",
    "\n",
    "○ Remove or treat outliers.\n",
    "\n",
    "○ Drop irrelevant or unwanted columns.\n",
    "\n",
    "○ Ensure the dataset is consistent and ready for analysis"
   ]
  },
  {
   "cell_type": "markdown",
   "id": "c2fc5e9c-1bc3-4438-a134-8866faa783e7",
   "metadata": {},
   "source": [
    "# Handle missing values (fill or drop as required)."
   ]
  },
  {
   "cell_type": "code",
   "execution_count": 10,
   "id": "7b08c026-ffdc-4d65-bd4a-ce3cbe1d5671",
   "metadata": {},
   "outputs": [
    {
     "data": {
      "text/plain": [
       "state              0\n",
       "city               0\n",
       "restaurant_name    0\n",
       "location           0\n",
       "category           0\n",
       "dish_name          0\n",
       "price              0\n",
       "rating             0\n",
       "rating_count       0\n",
       "dtype: int64"
      ]
     },
     "execution_count": 10,
     "metadata": {},
     "output_type": "execute_result"
    }
   ],
   "source": [
    "df.isna().sum()"
   ]
  },
  {
   "cell_type": "markdown",
   "id": "f0b8466e-5eec-406a-8229-d97092697293",
   "metadata": {},
   "source": [
    "# for this dataset there is no missing values here.so no need to handle missing values."
   ]
  },
  {
   "cell_type": "markdown",
   "id": "f82023eb-54c8-445f-9759-bdfcf0c736d8",
   "metadata": {},
   "source": [
    "# handling duplicated values"
   ]
  },
  {
   "cell_type": "code",
   "execution_count": 11,
   "id": "c90ac39f-7e0a-471c-b2f7-91bc94093c04",
   "metadata": {},
   "outputs": [
    {
     "data": {
      "text/plain": [
       "np.int64(6104)"
      ]
     },
     "execution_count": 11,
     "metadata": {},
     "output_type": "execute_result"
    }
   ],
   "source": [
    "df.duplicated().sum()"
   ]
  },
  {
   "cell_type": "code",
   "execution_count": 12,
   "id": "5c0ab37a-cfe8-4343-8aa0-c47e2b1ae272",
   "metadata": {},
   "outputs": [],
   "source": [
    "df.drop_duplicates(inplace=True)"
   ]
  },
  {
   "cell_type": "code",
   "execution_count": 13,
   "id": "f6be217d-fa12-4b96-b9e9-b356844eae06",
   "metadata": {},
   "outputs": [
    {
     "data": {
      "text/plain": [
       "np.int64(0)"
      ]
     },
     "execution_count": 13,
     "metadata": {},
     "output_type": "execute_result"
    }
   ],
   "source": [
    "df.duplicated().sum()"
   ]
  },
  {
   "cell_type": "markdown",
   "id": "73e9fa88-95e8-4a3f-82e7-ca4e015b8e18",
   "metadata": {},
   "source": [
    "# Remove or treat outliers."
   ]
  },
  {
   "cell_type": "code",
   "execution_count": 14,
   "id": "b78dc21b-e337-4034-a1f3-3a443a0efba6",
   "metadata": {},
   "outputs": [
    {
     "data": {
      "text/plain": [
       "<Axes: >"
      ]
     },
     "execution_count": 14,
     "metadata": {},
     "output_type": "execute_result"
    },
    {
     "data": {
      "image/png": "[encoded data removed]",
      "text/plain": [
       "<Figure size 640x480 with 1 Axes>"
      ]
     },
     "metadata": {},
     "output_type": "display_data"
    }
   ],
   "source": [
    "df.plot(kind=\"box\")"
   ]
  },
  {
   "cell_type": "code",
   "execution_count": 15,
   "id": "0c1b1b0c-d8bf-4631-b919-9fa240ffc4d4",
   "metadata": {},
   "outputs": [
    {
     "data": {
      "text/plain": [
       "(np.float64(139.0), np.float64(229.0), np.float64(329.0))"
      ]
     },
     "execution_count": 15,
     "metadata": {},
     "output_type": "execute_result"
    }
   ],
   "source": [
    "Q1,Q2,Q3=np.percentile(df[\"price\"],[25,50,75])\n",
    "Q1,Q2,Q3"
   ]
  },
  {
   "cell_type": "code",
   "execution_count": 16,
   "id": "9b285c2a-1aad-4eb6-b2c5-301f033aecec",
   "metadata": {},
   "outputs": [
    {
     "data": {
      "text/html": [
       "<div>\n",
       "<style scoped>\n",
       "    .dataframe tbody tr th:only-of-type {\n",
       "        vertical-align: middle;\n",
       "    }\n",
       "\n",
       "    .dataframe tbody tr th {\n",
       "        vertical-align: top;\n",
       "    }\n",
       "\n",
       "    .dataframe thead th {\n",
       "        text-align: right;\n",
       "    }\n",
       "</style>\n",
       "<table border=\"1\" class=\"dataframe\">\n",
       "  <thead>\n",
       "    <tr style=\"text-align: right;\">\n",
       "      <th></th>\n",
       "      <th>state</th>\n",
       "      <th>city</th>\n",
       "      <th>restaurant_name</th>\n",
       "      <th>location</th>\n",
       "      <th>category</th>\n",
       "      <th>dish_name</th>\n",
       "      <th>price</th>\n",
       "      <th>rating</th>\n",
       "      <th>rating_count</th>\n",
       "    </tr>\n",
       "  </thead>\n",
       "  <tbody>\n",
       "    <tr>\n",
       "      <th>563</th>\n",
       "      <td>Karnataka</td>\n",
       "      <td>Bengaluru</td>\n",
       "      <td>Pizza Hut</td>\n",
       "      <td>Kanakapura Road</td>\n",
       "      <td>Recommended</td>\n",
       "      <td>Bold BBQ Veggie Thin n Crispy</td>\n",
       "      <td>749.00</td>\n",
       "      <td>4.6</td>\n",
       "      <td>7</td>\n",
       "    </tr>\n",
       "    <tr>\n",
       "      <th>592</th>\n",
       "      <td>Karnataka</td>\n",
       "      <td>Bengaluru</td>\n",
       "      <td>Pizza Hut</td>\n",
       "      <td>Kanakapura Road</td>\n",
       "      <td>Thin n Crispy Pizzas</td>\n",
       "      <td>Bold BBQ Veggie Thin n Crispy</td>\n",
       "      <td>749.00</td>\n",
       "      <td>4.6</td>\n",
       "      <td>7</td>\n",
       "    </tr>\n",
       "    <tr>\n",
       "      <th>593</th>\n",
       "      <td>Karnataka</td>\n",
       "      <td>Bengaluru</td>\n",
       "      <td>Pizza Hut</td>\n",
       "      <td>Kanakapura Road</td>\n",
       "      <td>Thin n Crispy Pizzas</td>\n",
       "      <td>Tandoori Paneer Thin n Crispy</td>\n",
       "      <td>749.00</td>\n",
       "      <td>5.0</td>\n",
       "      <td>6</td>\n",
       "    </tr>\n",
       "    <tr>\n",
       "      <th>594</th>\n",
       "      <td>Karnataka</td>\n",
       "      <td>Bengaluru</td>\n",
       "      <td>Pizza Hut</td>\n",
       "      <td>Kanakapura Road</td>\n",
       "      <td>Thin n Crispy Pizzas</td>\n",
       "      <td>Mexican Fiesta Thin n Crispy</td>\n",
       "      <td>749.00</td>\n",
       "      <td>3.8</td>\n",
       "      <td>1</td>\n",
       "    </tr>\n",
       "    <tr>\n",
       "      <th>595</th>\n",
       "      <td>Karnataka</td>\n",
       "      <td>Bengaluru</td>\n",
       "      <td>Pizza Hut</td>\n",
       "      <td>Kanakapura Road</td>\n",
       "      <td>Thin n Crispy Pizzas</td>\n",
       "      <td>Dhabe Da Keema Thin n Crispy</td>\n",
       "      <td>749.00</td>\n",
       "      <td>0.0</td>\n",
       "      <td>0</td>\n",
       "    </tr>\n",
       "    <tr>\n",
       "      <th>...</th>\n",
       "      <td>...</td>\n",
       "      <td>...</td>\n",
       "      <td>...</td>\n",
       "      <td>...</td>\n",
       "      <td>...</td>\n",
       "      <td>...</td>\n",
       "      <td>...</td>\n",
       "      <td>...</td>\n",
       "      <td>...</td>\n",
       "    </tr>\n",
       "    <tr>\n",
       "      <th>197116</th>\n",
       "      <td>Sikkim</td>\n",
       "      <td>Gangtok</td>\n",
       "      <td>Domino's Pizza</td>\n",
       "      <td>DISTRICT COURT</td>\n",
       "      <td>Value Meals</td>\n",
       "      <td>Ultimate Cheese Burst Deluxe Combo (N Veg)</td>\n",
       "      <td>815.00</td>\n",
       "      <td>0.0</td>\n",
       "      <td>0</td>\n",
       "    </tr>\n",
       "    <tr>\n",
       "      <th>197117</th>\n",
       "      <td>Sikkim</td>\n",
       "      <td>Gangtok</td>\n",
       "      <td>Domino's Pizza</td>\n",
       "      <td>DISTRICT COURT</td>\n",
       "      <td>Value Meals</td>\n",
       "      <td>Ultimate Cheese Burst Premium Combo (Veg)</td>\n",
       "      <td>931.00</td>\n",
       "      <td>0.0</td>\n",
       "      <td>0</td>\n",
       "    </tr>\n",
       "    <tr>\n",
       "      <th>197118</th>\n",
       "      <td>Sikkim</td>\n",
       "      <td>Gangtok</td>\n",
       "      <td>Domino's Pizza</td>\n",
       "      <td>DISTRICT COURT</td>\n",
       "      <td>Value Meals</td>\n",
       "      <td>Meal for 4: Veg Cheesy Pizza</td>\n",
       "      <td>891.00</td>\n",
       "      <td>0.0</td>\n",
       "      <td>0</td>\n",
       "    </tr>\n",
       "    <tr>\n",
       "      <th>197120</th>\n",
       "      <td>Sikkim</td>\n",
       "      <td>Gangtok</td>\n",
       "      <td>Domino's Pizza</td>\n",
       "      <td>DISTRICT COURT</td>\n",
       "      <td>Value Meals</td>\n",
       "      <td>Meal for 2: Veg Paradise &amp; Farmhouse</td>\n",
       "      <td>667.14</td>\n",
       "      <td>0.0</td>\n",
       "      <td>0</td>\n",
       "    </tr>\n",
       "    <tr>\n",
       "      <th>197287</th>\n",
       "      <td>Sikkim</td>\n",
       "      <td>Gangtok</td>\n",
       "      <td>Hot Stuff Fast Food</td>\n",
       "      <td>Gangtok</td>\n",
       "      <td>Must Try Combos</td>\n",
       "      <td>2 Egg Fried Rice + 3 Chicken Manchurian 6 Pcs ...</td>\n",
       "      <td>675.00</td>\n",
       "      <td>0.0</td>\n",
       "      <td>0</td>\n",
       "    </tr>\n",
       "  </tbody>\n",
       "</table>\n",
       "<p>9516 rows × 9 columns</p>\n",
       "</div>"
      ],
      "text/plain": [
       "            state       city      restaurant_name         location  \\\n",
       "563     Karnataka  Bengaluru            Pizza Hut  Kanakapura Road   \n",
       "592     Karnataka  Bengaluru            Pizza Hut  Kanakapura Road   \n",
       "593     Karnataka  Bengaluru            Pizza Hut  Kanakapura Road   \n",
       "594     Karnataka  Bengaluru            Pizza Hut  Kanakapura Road   \n",
       "595     Karnataka  Bengaluru            Pizza Hut  Kanakapura Road   \n",
       "...           ...        ...                  ...              ...   \n",
       "197116     Sikkim    Gangtok       Domino's Pizza   DISTRICT COURT   \n",
       "197117     Sikkim    Gangtok       Domino's Pizza   DISTRICT COURT   \n",
       "197118     Sikkim    Gangtok       Domino's Pizza   DISTRICT COURT   \n",
       "197120     Sikkim    Gangtok       Domino's Pizza   DISTRICT COURT   \n",
       "197287     Sikkim    Gangtok  Hot Stuff Fast Food          Gangtok   \n",
       "\n",
       "                    category  \\\n",
       "563              Recommended   \n",
       "592     Thin n Crispy Pizzas   \n",
       "593     Thin n Crispy Pizzas   \n",
       "594     Thin n Crispy Pizzas   \n",
       "595     Thin n Crispy Pizzas   \n",
       "...                      ...   \n",
       "197116           Value Meals   \n",
       "197117           Value Meals   \n",
       "197118           Value Meals   \n",
       "197120           Value Meals   \n",
       "197287       Must Try Combos   \n",
       "\n",
       "                                                dish_name   price  rating  \\\n",
       "563                         Bold BBQ Veggie Thin n Crispy  749.00     4.6   \n",
       "592                         Bold BBQ Veggie Thin n Crispy  749.00     4.6   \n",
       "593                         Tandoori Paneer Thin n Crispy  749.00     5.0   \n",
       "594                          Mexican Fiesta Thin n Crispy  749.00     3.8   \n",
       "595                          Dhabe Da Keema Thin n Crispy  749.00     0.0   \n",
       "...                                                   ...     ...     ...   \n",
       "197116         Ultimate Cheese Burst Deluxe Combo (N Veg)  815.00     0.0   \n",
       "197117          Ultimate Cheese Burst Premium Combo (Veg)  931.00     0.0   \n",
       "197118                       Meal for 4: Veg Cheesy Pizza  891.00     0.0   \n",
       "197120               Meal for 2: Veg Paradise & Farmhouse  667.14     0.0   \n",
       "197287  2 Egg Fried Rice + 3 Chicken Manchurian 6 Pcs ...  675.00     0.0   \n",
       "\n",
       "        rating_count  \n",
       "563                7  \n",
       "592                7  \n",
       "593                6  \n",
       "594                1  \n",
       "595                0  \n",
       "...              ...  \n",
       "197116             0  \n",
       "197117             0  \n",
       "197118             0  \n",
       "197120             0  \n",
       "197287             0  \n",
       "\n",
       "[9516 rows x 9 columns]"
      ]
     },
     "execution_count": 16,
     "metadata": {},
     "output_type": "execute_result"
    }
   ],
   "source": [
    "IQR=Q3-Q1\n",
    "lower_whisker=Q1-1.5*IQR\n",
    "upper_whisker=Q3+1.5*IQR\n",
    "outliers_of_price=df[(df[\"price\"]<lower_whisker) | (df[\"price\"]>upper_whisker)]\n",
    "outliers_of_price"
   ]
  },
  {
   "cell_type": "code",
   "execution_count": 17,
   "id": "e7f2e823-c7c0-440f-826c-46ef68e9b9c7",
   "metadata": {},
   "outputs": [
    {
     "data": {
      "text/plain": [
       "4.9737097937551615"
      ]
     },
     "execution_count": 17,
     "metadata": {},
     "output_type": "execute_result"
    }
   ],
   "source": [
    "# percentage of outiler in price column\n",
    "(len(outliers_of_price)/len(df))*100"
   ]
  },
  {
   "cell_type": "markdown",
   "id": "b4ae2dd7-a90d-4ecd-b2e8-2a84c1e5634c",
   "metadata": {},
   "source": [
    "# the price column in this dataset it has 5% of outilers.now treat these outlier by using capping"
   ]
  },
  {
   "cell_type": "code",
   "execution_count": 18,
   "id": "db786f9a-80fe-4e59-8538-730b3aa6064f",
   "metadata": {},
   "outputs": [],
   "source": [
    "def capping_price(x):\n",
    "    if x<lower_whisker:\n",
    "        x=lower_whisker\n",
    "    elif x>upper_whisker:\n",
    "        x=upper_whisker\n",
    "    else:\n",
    "        return x\n",
    "    return x    "
   ]
  },
  {
   "cell_type": "code",
   "execution_count": 19,
   "id": "da4f2b0c-cbd2-4610-ac24-bf090ff59d62",
   "metadata": {},
   "outputs": [],
   "source": [
    "df[\"price\"]=df[\"price\"].apply(capping_price)"
   ]
  },
  {
   "cell_type": "code",
   "execution_count": 20,
   "id": "78e034ae-b420-42ae-b31e-7730df51a878",
   "metadata": {
    "scrolled": true
   },
   "outputs": [
    {
     "data": {
      "text/plain": [
       "<Axes: >"
      ]
     },
     "execution_count": 20,
     "metadata": {},
     "output_type": "execute_result"
    },
    {
     "data": {
      "image/png": "[encoded data removed]",
      "text/plain": [
       "<Figure size 640x480 with 1 Axes>"
      ]
     },
     "metadata": {},
     "output_type": "display_data"
    }
   ],
   "source": [
    "df[\"price\"].plot(kind=\"box\")"
   ]
  },
  {
   "cell_type": "code",
   "execution_count": 21,
   "id": "00e5ebc0-7077-4726-a7c6-de6db1cbf381",
   "metadata": {},
   "outputs": [
    {
     "data": {
      "text/plain": [
       "(np.float64(0.0), np.float64(2.0), np.float64(15.0))"
      ]
     },
     "execution_count": 21,
     "metadata": {},
     "output_type": "execute_result"
    }
   ],
   "source": [
    "Q1,Q2,Q3=np.percentile(df['rating_count'],[25,50,75])\n",
    "Q1,Q2,Q3"
   ]
  },
  {
   "cell_type": "code",
   "execution_count": 22,
   "id": "6734e7e7-b534-4642-804f-b0ef1fdeabbb",
   "metadata": {},
   "outputs": [
    {
     "data": {
      "text/html": [
       "<div>\n",
       "<style scoped>\n",
       "    .dataframe tbody tr th:only-of-type {\n",
       "        vertical-align: middle;\n",
       "    }\n",
       "\n",
       "    .dataframe tbody tr th {\n",
       "        vertical-align: top;\n",
       "    }\n",
       "\n",
       "    .dataframe thead th {\n",
       "        text-align: right;\n",
       "    }\n",
       "</style>\n",
       "<table border=\"1\" class=\"dataframe\">\n",
       "  <thead>\n",
       "    <tr style=\"text-align: right;\">\n",
       "      <th></th>\n",
       "      <th>state</th>\n",
       "      <th>city</th>\n",
       "      <th>restaurant_name</th>\n",
       "      <th>location</th>\n",
       "      <th>category</th>\n",
       "      <th>dish_name</th>\n",
       "      <th>price</th>\n",
       "      <th>rating</th>\n",
       "      <th>rating_count</th>\n",
       "    </tr>\n",
       "  </thead>\n",
       "  <tbody>\n",
       "    <tr>\n",
       "      <th>2</th>\n",
       "      <td>Karnataka</td>\n",
       "      <td>Bengaluru</td>\n",
       "      <td>Srinidhi Sagar Deluxe</td>\n",
       "      <td>Kengeri</td>\n",
       "      <td>Recommended</td>\n",
       "      <td>Chow Chow Bath</td>\n",
       "      <td>117.00</td>\n",
       "      <td>4.7</td>\n",
       "      <td>48</td>\n",
       "    </tr>\n",
       "    <tr>\n",
       "      <th>3</th>\n",
       "      <td>Karnataka</td>\n",
       "      <td>Bengaluru</td>\n",
       "      <td>Srinidhi Sagar Deluxe</td>\n",
       "      <td>Kengeri</td>\n",
       "      <td>Recommended</td>\n",
       "      <td>Kesari Bath</td>\n",
       "      <td>65.00</td>\n",
       "      <td>4.6</td>\n",
       "      <td>65</td>\n",
       "    </tr>\n",
       "    <tr>\n",
       "      <th>9</th>\n",
       "      <td>Karnataka</td>\n",
       "      <td>Bengaluru</td>\n",
       "      <td>Srinidhi Sagar Deluxe</td>\n",
       "      <td>Kengeri</td>\n",
       "      <td>North Indian Gravy</td>\n",
       "      <td>Dal Tadka</td>\n",
       "      <td>195.00</td>\n",
       "      <td>4.9</td>\n",
       "      <td>51</td>\n",
       "    </tr>\n",
       "    <tr>\n",
       "      <th>38</th>\n",
       "      <td>Karnataka</td>\n",
       "      <td>Bengaluru</td>\n",
       "      <td>Srinidhi Sagar Deluxe</td>\n",
       "      <td>Kengeri</td>\n",
       "      <td>North Indian Gravy</td>\n",
       "      <td>Dal Fry</td>\n",
       "      <td>182.00</td>\n",
       "      <td>4.3</td>\n",
       "      <td>68</td>\n",
       "    </tr>\n",
       "    <tr>\n",
       "      <th>61</th>\n",
       "      <td>Karnataka</td>\n",
       "      <td>Bengaluru</td>\n",
       "      <td>Srinidhi Sagar Deluxe</td>\n",
       "      <td>Kengeri</td>\n",
       "      <td>Manchurian &amp; Chilly</td>\n",
       "      <td>Mushroom Pepper Dry</td>\n",
       "      <td>228.00</td>\n",
       "      <td>2.6</td>\n",
       "      <td>45</td>\n",
       "    </tr>\n",
       "    <tr>\n",
       "      <th>...</th>\n",
       "      <td>...</td>\n",
       "      <td>...</td>\n",
       "      <td>...</td>\n",
       "      <td>...</td>\n",
       "      <td>...</td>\n",
       "      <td>...</td>\n",
       "      <td>...</td>\n",
       "      <td>...</td>\n",
       "      <td>...</td>\n",
       "    </tr>\n",
       "    <tr>\n",
       "      <th>196213</th>\n",
       "      <td>Sikkim</td>\n",
       "      <td>Gangtok</td>\n",
       "      <td>KFC</td>\n",
       "      <td>Baluwakhani</td>\n",
       "      <td>BURGERS</td>\n",
       "      <td>Chicken Zinger Burger - Classic</td>\n",
       "      <td>234.13</td>\n",
       "      <td>4.5</td>\n",
       "      <td>40</td>\n",
       "    </tr>\n",
       "    <tr>\n",
       "      <th>197314</th>\n",
       "      <td>Sikkim</td>\n",
       "      <td>Gangtok</td>\n",
       "      <td>Mama's Kitchen</td>\n",
       "      <td>Gangtok</td>\n",
       "      <td>Recommended</td>\n",
       "      <td>Veg roll</td>\n",
       "      <td>70.00</td>\n",
       "      <td>4.3</td>\n",
       "      <td>59</td>\n",
       "    </tr>\n",
       "    <tr>\n",
       "      <th>197320</th>\n",
       "      <td>Sikkim</td>\n",
       "      <td>Gangtok</td>\n",
       "      <td>Mama's Kitchen</td>\n",
       "      <td>Gangtok</td>\n",
       "      <td>Recommended</td>\n",
       "      <td>Veg chowmein                                  ...</td>\n",
       "      <td>70.00</td>\n",
       "      <td>4.1</td>\n",
       "      <td>46</td>\n",
       "    </tr>\n",
       "    <tr>\n",
       "      <th>197360</th>\n",
       "      <td>Sikkim</td>\n",
       "      <td>Gangtok</td>\n",
       "      <td>Mama's Kitchen</td>\n",
       "      <td>Gangtok</td>\n",
       "      <td>Roll</td>\n",
       "      <td>Veg roll</td>\n",
       "      <td>70.00</td>\n",
       "      <td>4.3</td>\n",
       "      <td>59</td>\n",
       "    </tr>\n",
       "    <tr>\n",
       "      <th>197389</th>\n",
       "      <td>Sikkim</td>\n",
       "      <td>Gangtok</td>\n",
       "      <td>Mama's Kitchen</td>\n",
       "      <td>Gangtok</td>\n",
       "      <td>Noodles</td>\n",
       "      <td>Veg chowmein                                  ...</td>\n",
       "      <td>70.00</td>\n",
       "      <td>4.1</td>\n",
       "      <td>46</td>\n",
       "    </tr>\n",
       "  </tbody>\n",
       "</table>\n",
       "<p>28218 rows × 9 columns</p>\n",
       "</div>"
      ],
      "text/plain": [
       "            state       city        restaurant_name     location  \\\n",
       "2       Karnataka  Bengaluru  Srinidhi Sagar Deluxe      Kengeri   \n",
       "3       Karnataka  Bengaluru  Srinidhi Sagar Deluxe      Kengeri   \n",
       "9       Karnataka  Bengaluru  Srinidhi Sagar Deluxe      Kengeri   \n",
       "38      Karnataka  Bengaluru  Srinidhi Sagar Deluxe      Kengeri   \n",
       "61      Karnataka  Bengaluru  Srinidhi Sagar Deluxe      Kengeri   \n",
       "...           ...        ...                    ...          ...   \n",
       "196213     Sikkim    Gangtok                    KFC  Baluwakhani   \n",
       "197314     Sikkim    Gangtok         Mama's Kitchen      Gangtok   \n",
       "197320     Sikkim    Gangtok         Mama's Kitchen      Gangtok   \n",
       "197360     Sikkim    Gangtok         Mama's Kitchen      Gangtok   \n",
       "197389     Sikkim    Gangtok         Mama's Kitchen      Gangtok   \n",
       "\n",
       "                   category  \\\n",
       "2               Recommended   \n",
       "3               Recommended   \n",
       "9        North Indian Gravy   \n",
       "38       North Indian Gravy   \n",
       "61      Manchurian & Chilly   \n",
       "...                     ...   \n",
       "196213              BURGERS   \n",
       "197314          Recommended   \n",
       "197320          Recommended   \n",
       "197360                 Roll   \n",
       "197389              Noodles   \n",
       "\n",
       "                                                dish_name   price  rating  \\\n",
       "2                                          Chow Chow Bath  117.00     4.7   \n",
       "3                                             Kesari Bath   65.00     4.6   \n",
       "9                                               Dal Tadka  195.00     4.9   \n",
       "38                                                Dal Fry  182.00     4.3   \n",
       "61                                    Mushroom Pepper Dry  228.00     2.6   \n",
       "...                                                   ...     ...     ...   \n",
       "196213                    Chicken Zinger Burger - Classic  234.13     4.5   \n",
       "197314                                           Veg roll   70.00     4.3   \n",
       "197320  Veg chowmein                                  ...   70.00     4.1   \n",
       "197360                                           Veg roll   70.00     4.3   \n",
       "197389  Veg chowmein                                  ...   70.00     4.1   \n",
       "\n",
       "        rating_count  \n",
       "2                 48  \n",
       "3                 65  \n",
       "9                 51  \n",
       "38                68  \n",
       "61                45  \n",
       "...              ...  \n",
       "196213            40  \n",
       "197314            59  \n",
       "197320            46  \n",
       "197360            59  \n",
       "197389            46  \n",
       "\n",
       "[28218 rows x 9 columns]"
      ]
     },
     "execution_count": 22,
     "metadata": {},
     "output_type": "execute_result"
    }
   ],
   "source": [
    "IQR=Q3-Q1\n",
    "lower_whisker=Q1-1.5*IQR\n",
    "upper_whisker=Q3+1.5*IQR\n",
    "outliers_of_rating=df[(df['rating_count']<lower_whisker) | (df['rating_count']>upper_whisker)]\n",
    "outliers_of_rating"
   ]
  },
  {
   "cell_type": "code",
   "execution_count": 23,
   "id": "d1c0be32-9f4d-437a-bcb2-a2827011e7eb",
   "metadata": {},
   "outputs": [
    {
     "data": {
      "text/plain": [
       "14.748648902919623"
      ]
     },
     "execution_count": 23,
     "metadata": {},
     "output_type": "execute_result"
    }
   ],
   "source": [
    "(len(outliers_of_rating)/len(df))*100"
   ]
  },
  {
   "cell_type": "markdown",
   "id": "08ad5d5e-d4c9-46ad-8f0b-6ffe38246bcd",
   "metadata": {},
   "source": [
    "# the rating count column in this dataset it has 14% of outilers.now treat these outlier by using capping "
   ]
  },
  {
   "cell_type": "code",
   "execution_count": 24,
   "id": "e80a22d4-6982-4b34-a2c1-bef97ac0a2c9",
   "metadata": {},
   "outputs": [],
   "source": [
    "def capping_rating(x):\n",
    "    if x<lower_whisker:\n",
    "        x=lower_whisker\n",
    "    elif x>upper_whisker:\n",
    "        x=upper_whisker\n",
    "    else:\n",
    "        return x\n",
    "    return x    "
   ]
  },
  {
   "cell_type": "code",
   "execution_count": 25,
   "id": "cf62e79d-00d5-420d-87fe-cc5d9093304a",
   "metadata": {},
   "outputs": [],
   "source": [
    "df['rating_count']=df['rating_count'].apply(capping_rating)"
   ]
  },
  {
   "cell_type": "code",
   "execution_count": 26,
   "id": "a92cd479-285b-483a-a423-3fb89fab77c5",
   "metadata": {},
   "outputs": [
    {
     "data": {
      "text/plain": [
       "<Axes: >"
      ]
     },
     "execution_count": 26,
     "metadata": {},
     "output_type": "execute_result"
    },
    {
     "data": {
      "image/png": "[encoded data removed]",
      "text/plain": [
       "<Figure size 640x480 with 1 Axes>"
      ]
     },
     "metadata": {},
     "output_type": "display_data"
    }
   ],
   "source": [
    "df['rating_count'].plot(kind=\"box\")"
   ]
  },
  {
   "cell_type": "markdown",
   "id": "5d68c126-1773-4e25-bbe6-461fc4deb75a",
   "metadata": {},
   "source": [
    "# Drop irrelevant or unwanted columns."
   ]
  },
  {
   "cell_type": "code",
   "execution_count": 27,
   "id": "16f854c4-fbad-4942-906a-9dcf968b94e4",
   "metadata": {},
   "outputs": [
    {
     "data": {
      "text/html": [
       "<div>\n",
       "<style scoped>\n",
       "    .dataframe tbody tr th:only-of-type {\n",
       "        vertical-align: middle;\n",
       "    }\n",
       "\n",
       "    .dataframe tbody tr th {\n",
       "        vertical-align: top;\n",
       "    }\n",
       "\n",
       "    .dataframe thead th {\n",
       "        text-align: right;\n",
       "    }\n",
       "</style>\n",
       "<table border=\"1\" class=\"dataframe\">\n",
       "  <thead>\n",
       "    <tr style=\"text-align: right;\">\n",
       "      <th></th>\n",
       "      <th>state</th>\n",
       "      <th>city</th>\n",
       "      <th>restaurant_name</th>\n",
       "      <th>location</th>\n",
       "      <th>category</th>\n",
       "      <th>dish_name</th>\n",
       "      <th>price</th>\n",
       "      <th>rating</th>\n",
       "      <th>rating_count</th>\n",
       "    </tr>\n",
       "  </thead>\n",
       "  <tbody>\n",
       "    <tr>\n",
       "      <th>0</th>\n",
       "      <td>Karnataka</td>\n",
       "      <td>Bengaluru</td>\n",
       "      <td>Anand Sweets &amp; Savouries</td>\n",
       "      <td>Rajarajeshwari Nagar</td>\n",
       "      <td>Snack</td>\n",
       "      <td>Butter Murukku-200gm</td>\n",
       "      <td>133.9</td>\n",
       "      <td>0.0</td>\n",
       "      <td>0.0</td>\n",
       "    </tr>\n",
       "  </tbody>\n",
       "</table>\n",
       "</div>"
      ],
      "text/plain": [
       "       state       city           restaurant_name              location  \\\n",
       "0  Karnataka  Bengaluru  Anand Sweets & Savouries  Rajarajeshwari Nagar   \n",
       "\n",
       "  category             dish_name  price  rating  rating_count  \n",
       "0    Snack  Butter Murukku-200gm  133.9     0.0           0.0  "
      ]
     },
     "execution_count": 27,
     "metadata": {},
     "output_type": "execute_result"
    }
   ],
   "source": [
    "df.head(1)"
   ]
  },
  {
   "cell_type": "markdown",
   "id": "de567cc8-137d-4bc3-a94b-5168abdebfc8",
   "metadata": {},
   "source": [
    "# for this dataset all columns are need for analysis to answer some  type of bussiness driven decision questions"
   ]
  },
  {
   "cell_type": "markdown",
   "id": "69a822d6-6ea8-4ce9-8c76-104dc83e82e9",
   "metadata": {},
   "source": [
    "# Ensure the dataset is consistent and ready for analysis\n",
    "## check by using some key parameters"
   ]
  },
  {
   "cell_type": "code",
   "execution_count": 28,
   "id": "3ee00b40-2515-44e6-bb70-f380f295f30c",
   "metadata": {},
   "outputs": [
    {
     "data": {
      "text/plain": [
       "state              0\n",
       "city               0\n",
       "restaurant_name    0\n",
       "location           0\n",
       "category           0\n",
       "dish_name          0\n",
       "price              0\n",
       "rating             0\n",
       "rating_count       0\n",
       "dtype: int64"
      ]
     },
     "execution_count": 28,
     "metadata": {},
     "output_type": "execute_result"
    }
   ],
   "source": [
    "df.isna().sum()"
   ]
  },
  {
   "cell_type": "code",
   "execution_count": 29,
   "id": "dd648924-a1f0-42f6-af45-da90d00a3b83",
   "metadata": {},
   "outputs": [
    {
     "data": {
      "text/plain": [
       "state               object\n",
       "city                object\n",
       "restaurant_name     object\n",
       "location            object\n",
       "category            object\n",
       "dish_name           object\n",
       "price              float64\n",
       "rating             float64\n",
       "rating_count       float64\n",
       "dtype: object"
      ]
     },
     "execution_count": 29,
     "metadata": {},
     "output_type": "execute_result"
    }
   ],
   "source": [
    "df.dtypes"
   ]
  },
  {
   "cell_type": "code",
   "execution_count": 30,
   "id": "370161ad-3433-4c95-b9b5-4110d3041335",
   "metadata": {},
   "outputs": [
    {
     "data": {
      "text/plain": [
       "np.int64(71)"
      ]
     },
     "execution_count": 30,
     "metadata": {},
     "output_type": "execute_result"
    }
   ],
   "source": [
    "df.duplicated().sum()"
   ]
  },
  {
   "cell_type": "code",
   "execution_count": 31,
   "id": "3a644930-25b0-40be-b144-5c755abff9fc",
   "metadata": {},
   "outputs": [
    {
     "name": "stdout",
     "output_type": "stream",
     "text": [
      "5.0\n",
      "0.0\n"
     ]
    }
   ],
   "source": [
    "# ensure values are falls within expected range\n",
    "max_rating=df[\"rating\"].max()\n",
    "min_rating=df[\"rating\"].min()\n",
    "print(max_rating)\n",
    "print(min_rating)"
   ]
  },
  {
   "cell_type": "code",
   "execution_count": 32,
   "id": "8e65bf8c-df22-4625-8ae5-b1fe34abc14a",
   "metadata": {},
   "outputs": [
    {
     "data": {
      "text/plain": [
       "<Axes: >"
      ]
     },
     "execution_count": 32,
     "metadata": {},
     "output_type": "execute_result"
    },
    {
     "data": {
      "image/png": "[encoded data removed]",
      "text/plain": [
       "<Figure size 640x480 with 1 Axes>"
      ]
     },
     "metadata": {},
     "output_type": "display_data"
    }
   ],
   "source": [
    "# outlier checking \n",
    "df.plot(kind=\"box\")"
   ]
  },
  {
   "cell_type": "code",
   "execution_count": 33,
   "id": "2b2f0e58-e50a-4ea8-930f-776ffc37c64c",
   "metadata": {},
   "outputs": [
    {
     "data": {
      "text/plain": [
       "Index(['state', 'city', 'restaurant_name', 'location', 'category', 'dish_name',\n",
       "       'price', 'rating', 'rating_count'],\n",
       "      dtype='object')"
      ]
     },
     "execution_count": 33,
     "metadata": {},
     "output_type": "execute_result"
    }
   ],
   "source": [
    "# formating columns\n",
    "df.columns"
   ]
  },
  {
   "cell_type": "code",
   "execution_count": 34,
   "id": "993e55af-0202-4d35-b1f0-fa7f5654f813",
   "metadata": {},
   "outputs": [
    {
     "name": "stdout",
     "output_type": "stream",
     "text": [
      "0.95\n",
      "614.0\n"
     ]
    }
   ],
   "source": [
    "# integrity check (min_price<= max_price)\n",
    "min_price=df[\"price\"].min()\n",
    "max_price=df[\"price\"].max()\n",
    "print(min_price)\n",
    "print(max_price)"
   ]
  },
  {
   "cell_type": "markdown",
   "id": "07e812ef-068a-416e-8ad5-40409369be94",
   "metadata": {},
   "source": [
    "# After performing data cleaning and preprocessing, the dataset has been ensured to be complete, consistent, and reliable. All missing values and duplicates have been handled, data types are correctly assigned, outliers in numeric columns have been addressed, categorical values standardized, and irrelevant columns removed. The dataset is now clean, structured, and ready for analysis or modeling."
   ]
  },
  {
   "cell_type": "markdown",
   "id": "f3b7b7e1-e5a2-4c17-8b75-6e2ae4c76a3a",
   "metadata": {},
   "source": [
    "# Explore the dataset:\n",
    "\n"
   ]
  },
  {
   "cell_type": "markdown",
   "id": "c5cef4f7-4f60-4e1d-ba92-9bcd968e1106",
   "metadata": {},
   "source": [
    "# Go through each column carefully to understand its data type,meaning and summarize the dataset."
   ]
  },
  {
   "cell_type": "code",
   "execution_count": 35,
   "id": "7de26a2e-3046-41a6-9814-771982fcff89",
   "metadata": {},
   "outputs": [
    {
     "data": {
      "text/plain": [
       "state               object\n",
       "city                object\n",
       "restaurant_name     object\n",
       "location            object\n",
       "category            object\n",
       "dish_name           object\n",
       "price              float64\n",
       "rating             float64\n",
       "rating_count       float64\n",
       "dtype: object"
      ]
     },
     "execution_count": 35,
     "metadata": {},
     "output_type": "execute_result"
    }
   ],
   "source": [
    "df.dtypes"
   ]
  },
  {
   "cell_type": "code",
   "execution_count": 36,
   "id": "45ab23c3-ce42-4ff4-b4d5-7b2d3cbdbc1c",
   "metadata": {},
   "outputs": [
    {
     "name": "stdout",
     "output_type": "stream",
     "text": [
      "<class 'pandas.core.frame.DataFrame'>\n",
      "Index: 191326 entries, 0 to 197429\n",
      "Data columns (total 9 columns):\n",
      " #   Column           Non-Null Count   Dtype  \n",
      "---  ------           --------------   -----  \n",
      " 0   state            191326 non-null  object \n",
      " 1   city             191326 non-null  object \n",
      " 2   restaurant_name  191326 non-null  object \n",
      " 3   location         191326 non-null  object \n",
      " 4   category         191326 non-null  object \n",
      " 5   dish_name        191326 non-null  object \n",
      " 6   price            191326 non-null  float64\n",
      " 7   rating           191326 non-null  float64\n",
      " 8   rating_count     191326 non-null  float64\n",
      "dtypes: float64(3), object(6)\n",
      "memory usage: 14.6+ MB\n"
     ]
    }
   ],
   "source": [
    "df.info()"
   ]
  },
  {
   "cell_type": "code",
   "execution_count": 37,
   "id": "f5e594a5-6a6a-469a-b9e1-50caef25116f",
   "metadata": {},
   "outputs": [
    {
     "data": {
      "text/html": [
       "<div>\n",
       "<style scoped>\n",
       "    .dataframe tbody tr th:only-of-type {\n",
       "        vertical-align: middle;\n",
       "    }\n",
       "\n",
       "    .dataframe tbody tr th {\n",
       "        vertical-align: top;\n",
       "    }\n",
       "\n",
       "    .dataframe thead th {\n",
       "        text-align: right;\n",
       "    }\n",
       "</style>\n",
       "<table border=\"1\" class=\"dataframe\">\n",
       "  <thead>\n",
       "    <tr style=\"text-align: right;\">\n",
       "      <th></th>\n",
       "      <th>count</th>\n",
       "      <th>mean</th>\n",
       "      <th>std</th>\n",
       "      <th>min</th>\n",
       "      <th>25%</th>\n",
       "      <th>50%</th>\n",
       "      <th>75%</th>\n",
       "      <th>max</th>\n",
       "    </tr>\n",
       "  </thead>\n",
       "  <tbody>\n",
       "    <tr>\n",
       "      <th>price</th>\n",
       "      <td>191326.0</td>\n",
       "      <td>252.072443</td>\n",
       "      <td>146.395450</td>\n",
       "      <td>0.95</td>\n",
       "      <td>139.0</td>\n",
       "      <td>229.0</td>\n",
       "      <td>329.0</td>\n",
       "      <td>614.0</td>\n",
       "    </tr>\n",
       "    <tr>\n",
       "      <th>rating</th>\n",
       "      <td>191326.0</td>\n",
       "      <td>2.607342</td>\n",
       "      <td>2.146412</td>\n",
       "      <td>0.00</td>\n",
       "      <td>0.0</td>\n",
       "      <td>3.9</td>\n",
       "      <td>4.5</td>\n",
       "      <td>5.0</td>\n",
       "    </tr>\n",
       "    <tr>\n",
       "      <th>rating_count</th>\n",
       "      <td>191326.0</td>\n",
       "      <td>9.842097</td>\n",
       "      <td>13.752102</td>\n",
       "      <td>0.00</td>\n",
       "      <td>0.0</td>\n",
       "      <td>2.0</td>\n",
       "      <td>15.0</td>\n",
       "      <td>37.5</td>\n",
       "    </tr>\n",
       "  </tbody>\n",
       "</table>\n",
       "</div>"
      ],
      "text/plain": [
       "                 count        mean         std   min    25%    50%    75%  \\\n",
       "price         191326.0  252.072443  146.395450  0.95  139.0  229.0  329.0   \n",
       "rating        191326.0    2.607342    2.146412  0.00    0.0    3.9    4.5   \n",
       "rating_count  191326.0    9.842097   13.752102  0.00    0.0    2.0   15.0   \n",
       "\n",
       "                max  \n",
       "price         614.0  \n",
       "rating          5.0  \n",
       "rating_count   37.5  "
      ]
     },
     "execution_count": 37,
     "metadata": {},
     "output_type": "execute_result"
    }
   ],
   "source": [
    "df.describe().T"
   ]
  },
  {
   "cell_type": "code",
   "execution_count": 38,
   "id": "d531ab39-fc33-4369-9da1-38e3ac4d7741",
   "metadata": {},
   "outputs": [
    {
     "data": {
      "text/html": [
       "<div>\n",
       "<style scoped>\n",
       "    .dataframe tbody tr th:only-of-type {\n",
       "        vertical-align: middle;\n",
       "    }\n",
       "\n",
       "    .dataframe tbody tr th {\n",
       "        vertical-align: top;\n",
       "    }\n",
       "\n",
       "    .dataframe thead th {\n",
       "        text-align: right;\n",
       "    }\n",
       "</style>\n",
       "<table border=\"1\" class=\"dataframe\">\n",
       "  <thead>\n",
       "    <tr style=\"text-align: right;\">\n",
       "      <th></th>\n",
       "      <th>count</th>\n",
       "      <th>unique</th>\n",
       "      <th>top</th>\n",
       "      <th>freq</th>\n",
       "      <th>mean</th>\n",
       "      <th>std</th>\n",
       "      <th>min</th>\n",
       "      <th>25%</th>\n",
       "      <th>50%</th>\n",
       "      <th>75%</th>\n",
       "      <th>max</th>\n",
       "    </tr>\n",
       "  </thead>\n",
       "  <tbody>\n",
       "    <tr>\n",
       "      <th>state</th>\n",
       "      <td>191326</td>\n",
       "      <td>28</td>\n",
       "      <td>Karnataka</td>\n",
       "      <td>18349</td>\n",
       "      <td>NaN</td>\n",
       "      <td>NaN</td>\n",
       "      <td>NaN</td>\n",
       "      <td>NaN</td>\n",
       "      <td>NaN</td>\n",
       "      <td>NaN</td>\n",
       "      <td>NaN</td>\n",
       "    </tr>\n",
       "    <tr>\n",
       "      <th>city</th>\n",
       "      <td>191326</td>\n",
       "      <td>28</td>\n",
       "      <td>Bengaluru</td>\n",
       "      <td>18349</td>\n",
       "      <td>NaN</td>\n",
       "      <td>NaN</td>\n",
       "      <td>NaN</td>\n",
       "      <td>NaN</td>\n",
       "      <td>NaN</td>\n",
       "      <td>NaN</td>\n",
       "      <td>NaN</td>\n",
       "    </tr>\n",
       "    <tr>\n",
       "      <th>restaurant_name</th>\n",
       "      <td>191326</td>\n",
       "      <td>993</td>\n",
       "      <td>McDonald's</td>\n",
       "      <td>12833</td>\n",
       "      <td>NaN</td>\n",
       "      <td>NaN</td>\n",
       "      <td>NaN</td>\n",
       "      <td>NaN</td>\n",
       "      <td>NaN</td>\n",
       "      <td>NaN</td>\n",
       "      <td>NaN</td>\n",
       "    </tr>\n",
       "    <tr>\n",
       "      <th>location</th>\n",
       "      <td>191326</td>\n",
       "      <td>977</td>\n",
       "      <td>Gomti Nagar</td>\n",
       "      <td>2054</td>\n",
       "      <td>NaN</td>\n",
       "      <td>NaN</td>\n",
       "      <td>NaN</td>\n",
       "      <td>NaN</td>\n",
       "      <td>NaN</td>\n",
       "      <td>NaN</td>\n",
       "      <td>NaN</td>\n",
       "    </tr>\n",
       "    <tr>\n",
       "      <th>category</th>\n",
       "      <td>191326</td>\n",
       "      <td>4972</td>\n",
       "      <td>Recommended</td>\n",
       "      <td>23243</td>\n",
       "      <td>NaN</td>\n",
       "      <td>NaN</td>\n",
       "      <td>NaN</td>\n",
       "      <td>NaN</td>\n",
       "      <td>NaN</td>\n",
       "      <td>NaN</td>\n",
       "      <td>NaN</td>\n",
       "    </tr>\n",
       "    <tr>\n",
       "      <th>dish_name</th>\n",
       "      <td>191326</td>\n",
       "      <td>59064</td>\n",
       "      <td>Choco Lava Cake</td>\n",
       "      <td>291</td>\n",
       "      <td>NaN</td>\n",
       "      <td>NaN</td>\n",
       "      <td>NaN</td>\n",
       "      <td>NaN</td>\n",
       "      <td>NaN</td>\n",
       "      <td>NaN</td>\n",
       "      <td>NaN</td>\n",
       "    </tr>\n",
       "    <tr>\n",
       "      <th>price</th>\n",
       "      <td>191326.0</td>\n",
       "      <td>NaN</td>\n",
       "      <td>NaN</td>\n",
       "      <td>NaN</td>\n",
       "      <td>252.072443</td>\n",
       "      <td>146.39545</td>\n",
       "      <td>0.95</td>\n",
       "      <td>139.0</td>\n",
       "      <td>229.0</td>\n",
       "      <td>329.0</td>\n",
       "      <td>614.0</td>\n",
       "    </tr>\n",
       "    <tr>\n",
       "      <th>rating</th>\n",
       "      <td>191326.0</td>\n",
       "      <td>NaN</td>\n",
       "      <td>NaN</td>\n",
       "      <td>NaN</td>\n",
       "      <td>2.607342</td>\n",
       "      <td>2.146412</td>\n",
       "      <td>0.0</td>\n",
       "      <td>0.0</td>\n",
       "      <td>3.9</td>\n",
       "      <td>4.5</td>\n",
       "      <td>5.0</td>\n",
       "    </tr>\n",
       "    <tr>\n",
       "      <th>rating_count</th>\n",
       "      <td>191326.0</td>\n",
       "      <td>NaN</td>\n",
       "      <td>NaN</td>\n",
       "      <td>NaN</td>\n",
       "      <td>9.842097</td>\n",
       "      <td>13.752102</td>\n",
       "      <td>0.0</td>\n",
       "      <td>0.0</td>\n",
       "      <td>2.0</td>\n",
       "      <td>15.0</td>\n",
       "      <td>37.5</td>\n",
       "    </tr>\n",
       "  </tbody>\n",
       "</table>\n",
       "</div>"
      ],
      "text/plain": [
       "                    count unique              top   freq        mean  \\\n",
       "state              191326     28        Karnataka  18349         NaN   \n",
       "city               191326     28        Bengaluru  18349         NaN   \n",
       "restaurant_name    191326    993       McDonald's  12833         NaN   \n",
       "location           191326    977      Gomti Nagar   2054         NaN   \n",
       "category           191326   4972      Recommended  23243         NaN   \n",
       "dish_name          191326  59064  Choco Lava Cake    291         NaN   \n",
       "price            191326.0    NaN              NaN    NaN  252.072443   \n",
       "rating           191326.0    NaN              NaN    NaN    2.607342   \n",
       "rating_count     191326.0    NaN              NaN    NaN    9.842097   \n",
       "\n",
       "                       std   min    25%    50%    75%    max  \n",
       "state                  NaN   NaN    NaN    NaN    NaN    NaN  \n",
       "city                   NaN   NaN    NaN    NaN    NaN    NaN  \n",
       "restaurant_name        NaN   NaN    NaN    NaN    NaN    NaN  \n",
       "location               NaN   NaN    NaN    NaN    NaN    NaN  \n",
       "category               NaN   NaN    NaN    NaN    NaN    NaN  \n",
       "dish_name              NaN   NaN    NaN    NaN    NaN    NaN  \n",
       "price            146.39545  0.95  139.0  229.0  329.0  614.0  \n",
       "rating            2.146412   0.0    0.0    3.9    4.5    5.0  \n",
       "rating_count     13.752102   0.0    0.0    2.0   15.0   37.5  "
      ]
     },
     "execution_count": 38,
     "metadata": {},
     "output_type": "execute_result"
    }
   ],
   "source": [
    "df.describe(include=\"all\").T"
   ]
  },
  {
   "cell_type": "code",
   "execution_count": 39,
   "id": "b5d40846-7282-4128-95dd-0e69268a3b8e",
   "metadata": {},
   "outputs": [
    {
     "data": {
      "text/plain": [
       "state\n",
       "Karnataka            18349\n",
       "Maharashtra          10467\n",
       "Telangana            10279\n",
       "Delhi                10183\n",
       "Tamil Nadu           10042\n",
       "Rajasthan             9801\n",
       "Uttar Pradesh         9581\n",
       "West Bengal           9381\n",
       "Punjab                9358\n",
       "Gujarat               8867\n",
       "Madhya Pradesh        7114\n",
       "Meghalaya             5183\n",
       "Jharkhand             5100\n",
       "Uttarakhand           5084\n",
       "Himachal Pradesh      5054\n",
       "Assam                 5032\n",
       "Goa                   5030\n",
       "Kerala                5029\n",
       "Chhattisgarh          5025\n",
       "Odisha                5018\n",
       "Haryana               5005\n",
       "Manipur               5001\n",
       "Bihar                 5000\n",
       "Jammu and Kashmir     4974\n",
       "Tripura               4947\n",
       "Mizoram               3031\n",
       "Nagaland              2286\n",
       "Sikkim                2105\n",
       "Name: count, dtype: int64"
      ]
     },
     "execution_count": 39,
     "metadata": {},
     "output_type": "execute_result"
    }
   ],
   "source": [
    "df[\"state\"].value_counts()"
   ]
  },
  {
   "cell_type": "code",
   "execution_count": 40,
   "id": "aad090b8-b12a-4b43-8599-d411e1613bf5",
   "metadata": {},
   "outputs": [],
   "source": [
    "import matplotlib.pyplot as plt"
   ]
  },
  {
   "cell_type": "code",
   "execution_count": 41,
   "id": "ffe0bb38-bef4-4a8b-b086-7988924b0a3d",
   "metadata": {},
   "outputs": [
    {
     "data": {
      "text/plain": [
       "Text(0.5, 1.0, 'distribution of order in swiggy')"
      ]
     },
     "execution_count": 41,
     "metadata": {},
     "output_type": "execute_result"
    },
    {
     "data": {
      "image/png": "[encoded data removed]",
      "text/plain": [
       "<Figure size 1200x400 with 1 Axes>"
      ]
     },
     "metadata": {},
     "output_type": "display_data"
    }
   ],
   "source": [
    "plt.figure(figsize=(12,4))\n",
    "plt.hist(df[\"state\"],bins=5)\n",
    "plt.xticks(rotation=90)\n",
    "plt.xlabel(\"States\")\n",
    "plt.ylabel(\"counts\")\n",
    "plt.title(\"distribution of order in swiggy\")\n",
    "           "
   ]
  },
  {
   "cell_type": "code",
   "execution_count": 42,
   "id": "5ee77932-3a86-475a-b187-bb9bb5121e4f",
   "metadata": {},
   "outputs": [
    {
     "data": {
      "text/plain": [
       "city\n",
       "Bengaluru      18349\n",
       "Mumbai         10467\n",
       "Hyderabad      10279\n",
       "New Delhi      10183\n",
       "Chennai        10042\n",
       "Jaipur          9801\n",
       "Lucknow         9581\n",
       "Kolkata         9381\n",
       "Chandigarh      9358\n",
       "Ahmedabad       8867\n",
       "Indore          7114\n",
       "Shillong        5183\n",
       "Ranchi          5100\n",
       "Dehradun        5084\n",
       "Shimla          5054\n",
       "Guwahati        5032\n",
       "Panaji          5030\n",
       "Kochi           5029\n",
       "Raipur          5025\n",
       "Bhubaneswar     5018\n",
       "Gurgaon         5005\n",
       "Imphal          5001\n",
       "Patna           5000\n",
       "Srinagar        4974\n",
       "Agartala        4947\n",
       "Aizawl          3031\n",
       "Kohima          2286\n",
       "Gangtok         2105\n",
       "Name: count, dtype: int64"
      ]
     },
     "execution_count": 42,
     "metadata": {},
     "output_type": "execute_result"
    }
   ],
   "source": [
    "df[\"city\"].value_counts()"
   ]
  },
  {
   "cell_type": "code",
   "execution_count": 43,
   "id": "49d52d6f-072c-46d5-aab5-f1ecdc3a9089",
   "metadata": {},
   "outputs": [
    {
     "data": {
      "text/plain": [
       "location\n",
       "Gomti Nagar            2054\n",
       "Nerul                  2034\n",
       "Yelahanka              1990\n",
       "Police Bazar           1814\n",
       "Vasant Kunj            1789\n",
       "                       ... \n",
       "Mal Godown Market         4\n",
       "SECTOR-109                3\n",
       "Bohri Kadal               3\n",
       "ASHIYANA DIGHA ROAD       3\n",
       "Faridabad                 2\n",
       "Name: count, Length: 977, dtype: int64"
      ]
     },
     "execution_count": 43,
     "metadata": {},
     "output_type": "execute_result"
    }
   ],
   "source": [
    "df[\"location\"].value_counts()"
   ]
  },
  {
   "cell_type": "code",
   "execution_count": 44,
   "id": "f8ae2d75-dbdd-40a8-8568-74b3a42fb080",
   "metadata": {},
   "outputs": [
    {
     "data": {
      "text/plain": [
       "category\n",
       "Recommended                    23243\n",
       "Main Course                     2953\n",
       "Desserts                        2844\n",
       "Beverages                       2405\n",
       "McSaver Combos (2 Pc Meals)     1729\n",
       "                               ...  \n",
       "EID special sweet box              1\n",
       "Combo Offer                        1\n",
       "Food Pack Dinner                   1\n",
       "Chinese- Dragon's Belly            1\n",
       "make your own combo                1\n",
       "Name: count, Length: 4972, dtype: int64"
      ]
     },
     "execution_count": 44,
     "metadata": {},
     "output_type": "execute_result"
    }
   ],
   "source": [
    "df[\"category\"].value_counts()"
   ]
  },
  {
   "cell_type": "code",
   "execution_count": 45,
   "id": "22708032-8272-4279-a1b7-73eec7f7ef48",
   "metadata": {},
   "outputs": [],
   "source": [
    "# how many categories place minimum order \n",
    "df1=pd.DataFrame(df[\"category\"].value_counts())"
   ]
  },
  {
   "cell_type": "code",
   "execution_count": 46,
   "id": "7f60fa6d-09f5-470e-9040-50b3c75d5864",
   "metadata": {},
   "outputs": [],
   "source": [
    "df1.reset_index(inplace=True)"
   ]
  },
  {
   "cell_type": "code",
   "execution_count": 47,
   "id": "d7886f59-e8f4-4d26-83da-b857d8d37bc7",
   "metadata": {},
   "outputs": [],
   "source": [
    "series1=df1[df1[\"count\"]==1][\"category\"]"
   ]
  },
  {
   "cell_type": "code",
   "execution_count": 48,
   "id": "7e1e6f59-7f62-48bb-8715-7e985e7948b0",
   "metadata": {},
   "outputs": [],
   "source": [
    "l1=list(series1)"
   ]
  },
  {
   "cell_type": "code",
   "execution_count": 49,
   "id": "8817eee2-05b6-4f45-b826-2bcd31e6eba1",
   "metadata": {},
   "outputs": [
    {
     "data": {
      "text/plain": [
       "336"
      ]
     },
     "execution_count": 49,
     "metadata": {},
     "output_type": "execute_result"
    }
   ],
   "source": [
    "len(l1)"
   ]
  },
  {
   "cell_type": "code",
   "execution_count": 50,
   "id": "76b0de33-776f-4809-8bd0-75562c5d44dc",
   "metadata": {},
   "outputs": [
    {
     "data": {
      "text/plain": [
       "array(['Butter Murukku-200gm', 'Badam Milk', 'Chow Chow Bath', ...,\n",
       "       'Chilli cheese momo ', 'Veg Momos (8 Pc)', 'Soya Momo'],\n",
       "      shape=(59064,), dtype=object)"
      ]
     },
     "execution_count": 50,
     "metadata": {},
     "output_type": "execute_result"
    }
   ],
   "source": [
    "df[\"dish_name\"].unique()"
   ]
  },
  {
   "cell_type": "code",
   "execution_count": 51,
   "id": "29a1c8b1-3fb2-442f-9707-3c8be62bac94",
   "metadata": {},
   "outputs": [
    {
     "data": {
      "text/plain": [
       "dish_name\n",
       "Choco Lava Cake                                       291\n",
       "Veg Fried Rice                                        240\n",
       "Paneer Butter Masala                                  225\n",
       "Chicken Sausage                                       224\n",
       "Jeera Rice                                            214\n",
       "                                                     ... \n",
       "Sweet corn soup                                         1\n",
       "Mushroom soup                                           1\n",
       "Garlic soup                                             1\n",
       "Crispy baby corn chilli                                 1\n",
       "Puri aloo dum                                           1\n",
       "Name: count, Length: 59064, dtype: int64"
      ]
     },
     "execution_count": 51,
     "metadata": {},
     "output_type": "execute_result"
    }
   ],
   "source": [
    "df[\"dish_name\"].value_counts()"
   ]
  },
  {
   "cell_type": "code",
   "execution_count": 52,
   "id": "c7553dd0-efd1-4fce-bb88-39a3fa54c4eb",
   "metadata": {},
   "outputs": [
    {
     "data": {
      "text/html": [
       "<div>\n",
       "<style scoped>\n",
       "    .dataframe tbody tr th:only-of-type {\n",
       "        vertical-align: middle;\n",
       "    }\n",
       "\n",
       "    .dataframe tbody tr th {\n",
       "        vertical-align: top;\n",
       "    }\n",
       "\n",
       "    .dataframe thead th {\n",
       "        text-align: right;\n",
       "    }\n",
       "</style>\n",
       "<table border=\"1\" class=\"dataframe\">\n",
       "  <thead>\n",
       "    <tr style=\"text-align: right;\">\n",
       "      <th></th>\n",
       "      <th>state</th>\n",
       "      <th>city</th>\n",
       "      <th>restaurant_name</th>\n",
       "      <th>location</th>\n",
       "      <th>category</th>\n",
       "      <th>dish_name</th>\n",
       "      <th>price</th>\n",
       "      <th>rating</th>\n",
       "      <th>rating_count</th>\n",
       "    </tr>\n",
       "  </thead>\n",
       "  <tbody>\n",
       "    <tr>\n",
       "      <th>0</th>\n",
       "      <td>Karnataka</td>\n",
       "      <td>Bengaluru</td>\n",
       "      <td>Anand Sweets &amp; Savouries</td>\n",
       "      <td>Rajarajeshwari Nagar</td>\n",
       "      <td>Snack</td>\n",
       "      <td>Butter Murukku-200gm</td>\n",
       "      <td>133.9</td>\n",
       "      <td>0.0</td>\n",
       "      <td>0.0</td>\n",
       "    </tr>\n",
       "    <tr>\n",
       "      <th>1</th>\n",
       "      <td>Karnataka</td>\n",
       "      <td>Bengaluru</td>\n",
       "      <td>Srinidhi Sagar Deluxe</td>\n",
       "      <td>Kengeri</td>\n",
       "      <td>Recommended</td>\n",
       "      <td>Badam Milk</td>\n",
       "      <td>52.0</td>\n",
       "      <td>4.5</td>\n",
       "      <td>25.0</td>\n",
       "    </tr>\n",
       "    <tr>\n",
       "      <th>2</th>\n",
       "      <td>Karnataka</td>\n",
       "      <td>Bengaluru</td>\n",
       "      <td>Srinidhi Sagar Deluxe</td>\n",
       "      <td>Kengeri</td>\n",
       "      <td>Recommended</td>\n",
       "      <td>Chow Chow Bath</td>\n",
       "      <td>117.0</td>\n",
       "      <td>4.7</td>\n",
       "      <td>37.5</td>\n",
       "    </tr>\n",
       "    <tr>\n",
       "      <th>3</th>\n",
       "      <td>Karnataka</td>\n",
       "      <td>Bengaluru</td>\n",
       "      <td>Srinidhi Sagar Deluxe</td>\n",
       "      <td>Kengeri</td>\n",
       "      <td>Recommended</td>\n",
       "      <td>Kesari Bath</td>\n",
       "      <td>65.0</td>\n",
       "      <td>4.6</td>\n",
       "      <td>37.5</td>\n",
       "    </tr>\n",
       "    <tr>\n",
       "      <th>4</th>\n",
       "      <td>Karnataka</td>\n",
       "      <td>Bengaluru</td>\n",
       "      <td>Srinidhi Sagar Deluxe</td>\n",
       "      <td>Kengeri</td>\n",
       "      <td>Recommended</td>\n",
       "      <td>Mix Raitha</td>\n",
       "      <td>130.0</td>\n",
       "      <td>0.0</td>\n",
       "      <td>0.0</td>\n",
       "    </tr>\n",
       "    <tr>\n",
       "      <th>...</th>\n",
       "      <td>...</td>\n",
       "      <td>...</td>\n",
       "      <td>...</td>\n",
       "      <td>...</td>\n",
       "      <td>...</td>\n",
       "      <td>...</td>\n",
       "      <td>...</td>\n",
       "      <td>...</td>\n",
       "      <td>...</td>\n",
       "    </tr>\n",
       "    <tr>\n",
       "      <th>197425</th>\n",
       "      <td>Sikkim</td>\n",
       "      <td>Gangtok</td>\n",
       "      <td>Mama's Kitchen</td>\n",
       "      <td>Gangtok</td>\n",
       "      <td>Momos</td>\n",
       "      <td>Soya cheese chilli momo                       ...</td>\n",
       "      <td>112.0</td>\n",
       "      <td>0.0</td>\n",
       "      <td>0.0</td>\n",
       "    </tr>\n",
       "    <tr>\n",
       "      <th>197426</th>\n",
       "      <td>Sikkim</td>\n",
       "      <td>Gangtok</td>\n",
       "      <td>Mama's Kitchen</td>\n",
       "      <td>Gangtok</td>\n",
       "      <td>Momos</td>\n",
       "      <td>Kurkure momo fried                            ...</td>\n",
       "      <td>140.0</td>\n",
       "      <td>0.0</td>\n",
       "      <td>0.0</td>\n",
       "    </tr>\n",
       "    <tr>\n",
       "      <th>197427</th>\n",
       "      <td>Sikkim</td>\n",
       "      <td>Gangtok</td>\n",
       "      <td>Mama's Kitchen</td>\n",
       "      <td>Gangtok</td>\n",
       "      <td>Momos</td>\n",
       "      <td>Chilli cheese momo</td>\n",
       "      <td>126.0</td>\n",
       "      <td>0.0</td>\n",
       "      <td>0.0</td>\n",
       "    </tr>\n",
       "    <tr>\n",
       "      <th>197428</th>\n",
       "      <td>Sikkim</td>\n",
       "      <td>Gangtok</td>\n",
       "      <td>Mama's Kitchen</td>\n",
       "      <td>Gangtok</td>\n",
       "      <td>Momos</td>\n",
       "      <td>Veg Momos (8 Pc)</td>\n",
       "      <td>85.0</td>\n",
       "      <td>0.0</td>\n",
       "      <td>0.0</td>\n",
       "    </tr>\n",
       "    <tr>\n",
       "      <th>197429</th>\n",
       "      <td>Sikkim</td>\n",
       "      <td>Gangtok</td>\n",
       "      <td>Mama's Kitchen</td>\n",
       "      <td>Gangtok</td>\n",
       "      <td>Momos</td>\n",
       "      <td>Soya Momo</td>\n",
       "      <td>100.0</td>\n",
       "      <td>0.0</td>\n",
       "      <td>0.0</td>\n",
       "    </tr>\n",
       "  </tbody>\n",
       "</table>\n",
       "<p>191326 rows × 9 columns</p>\n",
       "</div>"
      ],
      "text/plain": [
       "            state       city           restaurant_name              location  \\\n",
       "0       Karnataka  Bengaluru  Anand Sweets & Savouries  Rajarajeshwari Nagar   \n",
       "1       Karnataka  Bengaluru     Srinidhi Sagar Deluxe               Kengeri   \n",
       "2       Karnataka  Bengaluru     Srinidhi Sagar Deluxe               Kengeri   \n",
       "3       Karnataka  Bengaluru     Srinidhi Sagar Deluxe               Kengeri   \n",
       "4       Karnataka  Bengaluru     Srinidhi Sagar Deluxe               Kengeri   \n",
       "...           ...        ...                       ...                   ...   \n",
       "197425     Sikkim    Gangtok            Mama's Kitchen               Gangtok   \n",
       "197426     Sikkim    Gangtok            Mama's Kitchen               Gangtok   \n",
       "197427     Sikkim    Gangtok            Mama's Kitchen               Gangtok   \n",
       "197428     Sikkim    Gangtok            Mama's Kitchen               Gangtok   \n",
       "197429     Sikkim    Gangtok            Mama's Kitchen               Gangtok   \n",
       "\n",
       "           category                                          dish_name  price  \\\n",
       "0             Snack                               Butter Murukku-200gm  133.9   \n",
       "1       Recommended                                         Badam Milk   52.0   \n",
       "2       Recommended                                     Chow Chow Bath  117.0   \n",
       "3       Recommended                                        Kesari Bath   65.0   \n",
       "4       Recommended                                         Mix Raitha  130.0   \n",
       "...             ...                                                ...    ...   \n",
       "197425        Momos  Soya cheese chilli momo                       ...  112.0   \n",
       "197426        Momos  Kurkure momo fried                            ...  140.0   \n",
       "197427        Momos                                Chilli cheese momo   126.0   \n",
       "197428        Momos                                   Veg Momos (8 Pc)   85.0   \n",
       "197429        Momos                                          Soya Momo  100.0   \n",
       "\n",
       "        rating  rating_count  \n",
       "0          0.0           0.0  \n",
       "1          4.5          25.0  \n",
       "2          4.7          37.5  \n",
       "3          4.6          37.5  \n",
       "4          0.0           0.0  \n",
       "...        ...           ...  \n",
       "197425     0.0           0.0  \n",
       "197426     0.0           0.0  \n",
       "197427     0.0           0.0  \n",
       "197428     0.0           0.0  \n",
       "197429     0.0           0.0  \n",
       "\n",
       "[191326 rows x 9 columns]"
      ]
     },
     "execution_count": 52,
     "metadata": {},
     "output_type": "execute_result"
    }
   ],
   "source": [
    "df"
   ]
  },
  {
   "cell_type": "code",
   "execution_count": null,
   "id": "4dd3aafd-cb44-43f8-aae0-9ba7a141e76a",
   "metadata": {},
   "outputs": [],
   "source": []
  },
  {
   "cell_type": "code",
   "execution_count": 53,
   "id": "de962984-2d59-4e52-a5c3-b69165a6d82a",
   "metadata": {},
   "outputs": [
    {
     "data": {
      "text/html": [
       "<div>\n",
       "<style scoped>\n",
       "    .dataframe tbody tr th:only-of-type {\n",
       "        vertical-align: middle;\n",
       "    }\n",
       "\n",
       "    .dataframe tbody tr th {\n",
       "        vertical-align: top;\n",
       "    }\n",
       "\n",
       "    .dataframe thead th {\n",
       "        text-align: right;\n",
       "    }\n",
       "</style>\n",
       "<table border=\"1\" class=\"dataframe\">\n",
       "  <thead>\n",
       "    <tr style=\"text-align: right;\">\n",
       "      <th></th>\n",
       "      <th>state</th>\n",
       "      <th>city</th>\n",
       "      <th>restaurant_name</th>\n",
       "      <th>location</th>\n",
       "      <th>category</th>\n",
       "      <th>dish_name</th>\n",
       "      <th>price</th>\n",
       "      <th>rating</th>\n",
       "      <th>rating_count</th>\n",
       "    </tr>\n",
       "  </thead>\n",
       "  <tbody>\n",
       "    <tr>\n",
       "      <th>0</th>\n",
       "      <td>Karnataka</td>\n",
       "      <td>Bengaluru</td>\n",
       "      <td>Anand Sweets &amp; Savouries</td>\n",
       "      <td>Rajarajeshwari Nagar</td>\n",
       "      <td>Snack</td>\n",
       "      <td>Butter Murukku-200gm</td>\n",
       "      <td>133.9</td>\n",
       "      <td>0.0</td>\n",
       "      <td>0.0</td>\n",
       "    </tr>\n",
       "    <tr>\n",
       "      <th>1</th>\n",
       "      <td>Karnataka</td>\n",
       "      <td>Bengaluru</td>\n",
       "      <td>Srinidhi Sagar Deluxe</td>\n",
       "      <td>Kengeri</td>\n",
       "      <td>Recommended</td>\n",
       "      <td>Badam Milk</td>\n",
       "      <td>52.0</td>\n",
       "      <td>4.5</td>\n",
       "      <td>25.0</td>\n",
       "    </tr>\n",
       "    <tr>\n",
       "      <th>2</th>\n",
       "      <td>Karnataka</td>\n",
       "      <td>Bengaluru</td>\n",
       "      <td>Srinidhi Sagar Deluxe</td>\n",
       "      <td>Kengeri</td>\n",
       "      <td>Recommended</td>\n",
       "      <td>Chow Chow Bath</td>\n",
       "      <td>117.0</td>\n",
       "      <td>4.7</td>\n",
       "      <td>37.5</td>\n",
       "    </tr>\n",
       "    <tr>\n",
       "      <th>3</th>\n",
       "      <td>Karnataka</td>\n",
       "      <td>Bengaluru</td>\n",
       "      <td>Srinidhi Sagar Deluxe</td>\n",
       "      <td>Kengeri</td>\n",
       "      <td>Recommended</td>\n",
       "      <td>Kesari Bath</td>\n",
       "      <td>65.0</td>\n",
       "      <td>4.6</td>\n",
       "      <td>37.5</td>\n",
       "    </tr>\n",
       "    <tr>\n",
       "      <th>4</th>\n",
       "      <td>Karnataka</td>\n",
       "      <td>Bengaluru</td>\n",
       "      <td>Srinidhi Sagar Deluxe</td>\n",
       "      <td>Kengeri</td>\n",
       "      <td>Recommended</td>\n",
       "      <td>Mix Raitha</td>\n",
       "      <td>130.0</td>\n",
       "      <td>0.0</td>\n",
       "      <td>0.0</td>\n",
       "    </tr>\n",
       "    <tr>\n",
       "      <th>...</th>\n",
       "      <td>...</td>\n",
       "      <td>...</td>\n",
       "      <td>...</td>\n",
       "      <td>...</td>\n",
       "      <td>...</td>\n",
       "      <td>...</td>\n",
       "      <td>...</td>\n",
       "      <td>...</td>\n",
       "      <td>...</td>\n",
       "    </tr>\n",
       "    <tr>\n",
       "      <th>197425</th>\n",
       "      <td>Sikkim</td>\n",
       "      <td>Gangtok</td>\n",
       "      <td>Mama's Kitchen</td>\n",
       "      <td>Gangtok</td>\n",
       "      <td>Momos</td>\n",
       "      <td>Soya cheese chilli momo                       ...</td>\n",
       "      <td>112.0</td>\n",
       "      <td>0.0</td>\n",
       "      <td>0.0</td>\n",
       "    </tr>\n",
       "    <tr>\n",
       "      <th>197426</th>\n",
       "      <td>Sikkim</td>\n",
       "      <td>Gangtok</td>\n",
       "      <td>Mama's Kitchen</td>\n",
       "      <td>Gangtok</td>\n",
       "      <td>Momos</td>\n",
       "      <td>Kurkure momo fried                            ...</td>\n",
       "      <td>140.0</td>\n",
       "      <td>0.0</td>\n",
       "      <td>0.0</td>\n",
       "    </tr>\n",
       "    <tr>\n",
       "      <th>197427</th>\n",
       "      <td>Sikkim</td>\n",
       "      <td>Gangtok</td>\n",
       "      <td>Mama's Kitchen</td>\n",
       "      <td>Gangtok</td>\n",
       "      <td>Momos</td>\n",
       "      <td>Chilli cheese momo</td>\n",
       "      <td>126.0</td>\n",
       "      <td>0.0</td>\n",
       "      <td>0.0</td>\n",
       "    </tr>\n",
       "    <tr>\n",
       "      <th>197428</th>\n",
       "      <td>Sikkim</td>\n",
       "      <td>Gangtok</td>\n",
       "      <td>Mama's Kitchen</td>\n",
       "      <td>Gangtok</td>\n",
       "      <td>Momos</td>\n",
       "      <td>Veg Momos (8 Pc)</td>\n",
       "      <td>85.0</td>\n",
       "      <td>0.0</td>\n",
       "      <td>0.0</td>\n",
       "    </tr>\n",
       "    <tr>\n",
       "      <th>197429</th>\n",
       "      <td>Sikkim</td>\n",
       "      <td>Gangtok</td>\n",
       "      <td>Mama's Kitchen</td>\n",
       "      <td>Gangtok</td>\n",
       "      <td>Momos</td>\n",
       "      <td>Soya Momo</td>\n",
       "      <td>100.0</td>\n",
       "      <td>0.0</td>\n",
       "      <td>0.0</td>\n",
       "    </tr>\n",
       "  </tbody>\n",
       "</table>\n",
       "<p>191326 rows × 9 columns</p>\n",
       "</div>"
      ],
      "text/plain": [
       "            state       city           restaurant_name              location  \\\n",
       "0       Karnataka  Bengaluru  Anand Sweets & Savouries  Rajarajeshwari Nagar   \n",
       "1       Karnataka  Bengaluru     Srinidhi Sagar Deluxe               Kengeri   \n",
       "2       Karnataka  Bengaluru     Srinidhi Sagar Deluxe               Kengeri   \n",
       "3       Karnataka  Bengaluru     Srinidhi Sagar Deluxe               Kengeri   \n",
       "4       Karnataka  Bengaluru     Srinidhi Sagar Deluxe               Kengeri   \n",
       "...           ...        ...                       ...                   ...   \n",
       "197425     Sikkim    Gangtok            Mama's Kitchen               Gangtok   \n",
       "197426     Sikkim    Gangtok            Mama's Kitchen               Gangtok   \n",
       "197427     Sikkim    Gangtok            Mama's Kitchen               Gangtok   \n",
       "197428     Sikkim    Gangtok            Mama's Kitchen               Gangtok   \n",
       "197429     Sikkim    Gangtok            Mama's Kitchen               Gangtok   \n",
       "\n",
       "           category                                          dish_name  price  \\\n",
       "0             Snack                               Butter Murukku-200gm  133.9   \n",
       "1       Recommended                                         Badam Milk   52.0   \n",
       "2       Recommended                                     Chow Chow Bath  117.0   \n",
       "3       Recommended                                        Kesari Bath   65.0   \n",
       "4       Recommended                                         Mix Raitha  130.0   \n",
       "...             ...                                                ...    ...   \n",
       "197425        Momos  Soya cheese chilli momo                       ...  112.0   \n",
       "197426        Momos  Kurkure momo fried                            ...  140.0   \n",
       "197427        Momos                                Chilli cheese momo   126.0   \n",
       "197428        Momos                                   Veg Momos (8 Pc)   85.0   \n",
       "197429        Momos                                          Soya Momo  100.0   \n",
       "\n",
       "        rating  rating_count  \n",
       "0          0.0           0.0  \n",
       "1          4.5          25.0  \n",
       "2          4.7          37.5  \n",
       "3          4.6          37.5  \n",
       "4          0.0           0.0  \n",
       "...        ...           ...  \n",
       "197425     0.0           0.0  \n",
       "197426     0.0           0.0  \n",
       "197427     0.0           0.0  \n",
       "197428     0.0           0.0  \n",
       "197429     0.0           0.0  \n",
       "\n",
       "[191326 rows x 9 columns]"
      ]
     },
     "execution_count": 53,
     "metadata": {},
     "output_type": "execute_result"
    }
   ],
   "source": [
    "df"
   ]
  },
  {
   "cell_type": "code",
   "execution_count": 54,
   "id": "ef4d7203-074f-4c41-8dbc-73c8a8890885",
   "metadata": {},
   "outputs": [
    {
     "data": {
      "text/plain": [
       "Index(['price', 'rating', 'rating_count'], dtype='object')"
      ]
     },
     "execution_count": 54,
     "metadata": {},
     "output_type": "execute_result"
    }
   ],
   "source": [
    "# finding the relation between the numerical columns\n",
    "numerical_col=df.select_dtypes(include=\"number\").columns\n",
    "numerical_col\n"
   ]
  },
  {
   "cell_type": "code",
   "execution_count": 55,
   "id": "61099a65-e101-4ab5-8c74-069b18f48f49",
   "metadata": {},
   "outputs": [
    {
     "data": {
      "text/html": [
       "<div>\n",
       "<style scoped>\n",
       "    .dataframe tbody tr th:only-of-type {\n",
       "        vertical-align: middle;\n",
       "    }\n",
       "\n",
       "    .dataframe tbody tr th {\n",
       "        vertical-align: top;\n",
       "    }\n",
       "\n",
       "    .dataframe thead th {\n",
       "        text-align: right;\n",
       "    }\n",
       "</style>\n",
       "<table border=\"1\" class=\"dataframe\">\n",
       "  <thead>\n",
       "    <tr style=\"text-align: right;\">\n",
       "      <th></th>\n",
       "      <th>price</th>\n",
       "      <th>rating</th>\n",
       "      <th>rating_count</th>\n",
       "    </tr>\n",
       "  </thead>\n",
       "  <tbody>\n",
       "    <tr>\n",
       "      <th>price</th>\n",
       "      <td>1.000000</td>\n",
       "      <td>-0.107418</td>\n",
       "      <td>-0.155330</td>\n",
       "    </tr>\n",
       "    <tr>\n",
       "      <th>rating</th>\n",
       "      <td>-0.107418</td>\n",
       "      <td>1.000000</td>\n",
       "      <td>0.576857</td>\n",
       "    </tr>\n",
       "    <tr>\n",
       "      <th>rating_count</th>\n",
       "      <td>-0.155330</td>\n",
       "      <td>0.576857</td>\n",
       "      <td>1.000000</td>\n",
       "    </tr>\n",
       "  </tbody>\n",
       "</table>\n",
       "</div>"
      ],
      "text/plain": [
       "                 price    rating  rating_count\n",
       "price         1.000000 -0.107418     -0.155330\n",
       "rating       -0.107418  1.000000      0.576857\n",
       "rating_count -0.155330  0.576857      1.000000"
      ]
     },
     "execution_count": 55,
     "metadata": {},
     "output_type": "execute_result"
    }
   ],
   "source": [
    "df[numerical_col].corr()"
   ]
  },
  {
   "cell_type": "code",
   "execution_count": 56,
   "id": "cbbe16c3-9cef-4508-9495-7c45a149f686",
   "metadata": {},
   "outputs": [
    {
     "data": {
      "text/plain": [
       "state\n",
       "Karnataka            18349\n",
       "Maharashtra          10467\n",
       "Telangana            10279\n",
       "Delhi                10183\n",
       "Tamil Nadu           10042\n",
       "Rajasthan             9801\n",
       "Uttar Pradesh         9581\n",
       "West Bengal           9381\n",
       "Punjab                9358\n",
       "Gujarat               8867\n",
       "Madhya Pradesh        7114\n",
       "Meghalaya             5183\n",
       "Jharkhand             5100\n",
       "Uttarakhand           5084\n",
       "Himachal Pradesh      5054\n",
       "Assam                 5032\n",
       "Goa                   5030\n",
       "Kerala                5029\n",
       "Chhattisgarh          5025\n",
       "Odisha                5018\n",
       "Haryana               5005\n",
       "Manipur               5001\n",
       "Bihar                 5000\n",
       "Jammu and Kashmir     4974\n",
       "Tripura               4947\n",
       "Mizoram               3031\n",
       "Nagaland              2286\n",
       "Sikkim                2105\n",
       "Name: count, dtype: int64"
      ]
     },
     "execution_count": 56,
     "metadata": {},
     "output_type": "execute_result"
    }
   ],
   "source": [
    "df[\"state\"].value_counts()"
   ]
  },
  {
   "cell_type": "code",
   "execution_count": 57,
   "id": "d1c7dca0-11db-4b50-bdff-df139102ae96",
   "metadata": {},
   "outputs": [
    {
     "data": {
      "text/plain": [
       "0.95"
      ]
     },
     "execution_count": 57,
     "metadata": {},
     "output_type": "execute_result"
    }
   ],
   "source": [
    "df.price.min()"
   ]
  },
  {
   "cell_type": "code",
   "execution_count": 58,
   "id": "ffe0b731-1a9c-47fa-83c6-6fa94ee40e71",
   "metadata": {},
   "outputs": [
    {
     "data": {
      "text/plain": [
       "614.0"
      ]
     },
     "execution_count": 58,
     "metadata": {},
     "output_type": "execute_result"
    }
   ],
   "source": [
    "df.price.max()"
   ]
  },
  {
   "cell_type": "code",
   "execution_count": 59,
   "id": "1a1f51cb-5f3d-481c-ba27-5b5a774f5cca",
   "metadata": {},
   "outputs": [
    {
     "data": {
      "text/html": [
       "<div>\n",
       "<style scoped>\n",
       "    .dataframe tbody tr th:only-of-type {\n",
       "        vertical-align: middle;\n",
       "    }\n",
       "\n",
       "    .dataframe tbody tr th {\n",
       "        vertical-align: top;\n",
       "    }\n",
       "\n",
       "    .dataframe thead th {\n",
       "        text-align: right;\n",
       "    }\n",
       "</style>\n",
       "<table border=\"1\" class=\"dataframe\">\n",
       "  <thead>\n",
       "    <tr style=\"text-align: right;\">\n",
       "      <th></th>\n",
       "      <th>state</th>\n",
       "      <th>city</th>\n",
       "      <th>restaurant_name</th>\n",
       "      <th>location</th>\n",
       "      <th>category</th>\n",
       "      <th>dish_name</th>\n",
       "      <th>price</th>\n",
       "      <th>rating</th>\n",
       "      <th>rating_count</th>\n",
       "    </tr>\n",
       "  </thead>\n",
       "  <tbody>\n",
       "    <tr>\n",
       "      <th>636</th>\n",
       "      <td>Karnataka</td>\n",
       "      <td>Bengaluru</td>\n",
       "      <td>Pizza Hut</td>\n",
       "      <td>Kanakapura Road</td>\n",
       "      <td>Appetizer</td>\n",
       "      <td>Tomato Ketchup</td>\n",
       "      <td>0.95</td>\n",
       "      <td>4.3</td>\n",
       "      <td>37.5</td>\n",
       "    </tr>\n",
       "    <tr>\n",
       "      <th>2410</th>\n",
       "      <td>Karnataka</td>\n",
       "      <td>Bengaluru</td>\n",
       "      <td>Pizza Hut</td>\n",
       "      <td>Global Mall</td>\n",
       "      <td>Appetizer</td>\n",
       "      <td>Tomato Ketchup</td>\n",
       "      <td>0.95</td>\n",
       "      <td>4.5</td>\n",
       "      <td>37.5</td>\n",
       "    </tr>\n",
       "    <tr>\n",
       "      <th>3900</th>\n",
       "      <td>Karnataka</td>\n",
       "      <td>Bengaluru</td>\n",
       "      <td>Pizza Hut</td>\n",
       "      <td>Banashankari</td>\n",
       "      <td>Appetizer</td>\n",
       "      <td>Tomato Ketchup</td>\n",
       "      <td>0.95</td>\n",
       "      <td>4.3</td>\n",
       "      <td>37.5</td>\n",
       "    </tr>\n",
       "    <tr>\n",
       "      <th>4409</th>\n",
       "      <td>Karnataka</td>\n",
       "      <td>Bengaluru</td>\n",
       "      <td>Pizza Hut</td>\n",
       "      <td>Varthur Gunjur</td>\n",
       "      <td>Appetizer</td>\n",
       "      <td>Tomato Ketchup</td>\n",
       "      <td>0.95</td>\n",
       "      <td>4.3</td>\n",
       "      <td>37.5</td>\n",
       "    </tr>\n",
       "    <tr>\n",
       "      <th>6267</th>\n",
       "      <td>Karnataka</td>\n",
       "      <td>Bengaluru</td>\n",
       "      <td>Pizza Hut</td>\n",
       "      <td>Jalahalli Cross</td>\n",
       "      <td>Appetizer</td>\n",
       "      <td>Tomato Ketchup</td>\n",
       "      <td>0.95</td>\n",
       "      <td>4.2</td>\n",
       "      <td>37.5</td>\n",
       "    </tr>\n",
       "    <tr>\n",
       "      <th>...</th>\n",
       "      <td>...</td>\n",
       "      <td>...</td>\n",
       "      <td>...</td>\n",
       "      <td>...</td>\n",
       "      <td>...</td>\n",
       "      <td>...</td>\n",
       "      <td>...</td>\n",
       "      <td>...</td>\n",
       "      <td>...</td>\n",
       "    </tr>\n",
       "    <tr>\n",
       "      <th>188262</th>\n",
       "      <td>Meghalaya</td>\n",
       "      <td>Shillong</td>\n",
       "      <td>Pizza Hut</td>\n",
       "      <td>Police Bazaar</td>\n",
       "      <td>Appetizer</td>\n",
       "      <td>Tomato Ketchup</td>\n",
       "      <td>0.95</td>\n",
       "      <td>4.2</td>\n",
       "      <td>37.5</td>\n",
       "    </tr>\n",
       "    <tr>\n",
       "      <th>192441</th>\n",
       "      <td>Mizoram</td>\n",
       "      <td>Aizawl</td>\n",
       "      <td>Pizza Hut</td>\n",
       "      <td>Aizwal</td>\n",
       "      <td>Appetizer</td>\n",
       "      <td>Tomato Ketchup</td>\n",
       "      <td>0.95</td>\n",
       "      <td>4.5</td>\n",
       "      <td>30.0</td>\n",
       "    </tr>\n",
       "    <tr>\n",
       "      <th>194306</th>\n",
       "      <td>Mizoram</td>\n",
       "      <td>Aizawl</td>\n",
       "      <td>Pizza Hut</td>\n",
       "      <td>Bawngkawn</td>\n",
       "      <td>Appetizer</td>\n",
       "      <td>Tomato Ketchup</td>\n",
       "      <td>0.95</td>\n",
       "      <td>3.8</td>\n",
       "      <td>26.0</td>\n",
       "    </tr>\n",
       "    <tr>\n",
       "      <th>194871</th>\n",
       "      <td>Mizoram</td>\n",
       "      <td>Aizawl</td>\n",
       "      <td>Pizza Hut</td>\n",
       "      <td>Aizawl</td>\n",
       "      <td>Appetizer</td>\n",
       "      <td>Tomato Ketchup</td>\n",
       "      <td>0.95</td>\n",
       "      <td>4.2</td>\n",
       "      <td>22.0</td>\n",
       "    </tr>\n",
       "    <tr>\n",
       "      <th>195428</th>\n",
       "      <td>Sikkim</td>\n",
       "      <td>Gangtok</td>\n",
       "      <td>Pizza Hut</td>\n",
       "      <td>Gangtok</td>\n",
       "      <td>Appetizer</td>\n",
       "      <td>Tomato Ketchup</td>\n",
       "      <td>0.95</td>\n",
       "      <td>3.8</td>\n",
       "      <td>22.0</td>\n",
       "    </tr>\n",
       "  </tbody>\n",
       "</table>\n",
       "<p>91 rows × 9 columns</p>\n",
       "</div>"
      ],
      "text/plain": [
       "            state       city restaurant_name         location   category  \\\n",
       "636     Karnataka  Bengaluru       Pizza Hut  Kanakapura Road  Appetizer   \n",
       "2410    Karnataka  Bengaluru       Pizza Hut      Global Mall  Appetizer   \n",
       "3900    Karnataka  Bengaluru       Pizza Hut     Banashankari  Appetizer   \n",
       "4409    Karnataka  Bengaluru       Pizza Hut   Varthur Gunjur  Appetizer   \n",
       "6267    Karnataka  Bengaluru       Pizza Hut  Jalahalli Cross  Appetizer   \n",
       "...           ...        ...             ...              ...        ...   \n",
       "188262  Meghalaya   Shillong       Pizza Hut    Police Bazaar  Appetizer   \n",
       "192441    Mizoram     Aizawl       Pizza Hut           Aizwal  Appetizer   \n",
       "194306    Mizoram     Aizawl       Pizza Hut        Bawngkawn  Appetizer   \n",
       "194871    Mizoram     Aizawl       Pizza Hut           Aizawl  Appetizer   \n",
       "195428     Sikkim    Gangtok       Pizza Hut          Gangtok  Appetizer   \n",
       "\n",
       "             dish_name  price  rating  rating_count  \n",
       "636     Tomato Ketchup   0.95     4.3          37.5  \n",
       "2410    Tomato Ketchup   0.95     4.5          37.5  \n",
       "3900    Tomato Ketchup   0.95     4.3          37.5  \n",
       "4409    Tomato Ketchup   0.95     4.3          37.5  \n",
       "6267    Tomato Ketchup   0.95     4.2          37.5  \n",
       "...                ...    ...     ...           ...  \n",
       "188262  Tomato Ketchup   0.95     4.2          37.5  \n",
       "192441  Tomato Ketchup   0.95     4.5          30.0  \n",
       "194306  Tomato Ketchup   0.95     3.8          26.0  \n",
       "194871  Tomato Ketchup   0.95     4.2          22.0  \n",
       "195428  Tomato Ketchup   0.95     3.8          22.0  \n",
       "\n",
       "[91 rows x 9 columns]"
      ]
     },
     "execution_count": 59,
     "metadata": {},
     "output_type": "execute_result"
    }
   ],
   "source": [
    "df[df[\"price\"]==0.95]"
   ]
  },
  {
   "cell_type": "code",
   "execution_count": 60,
   "id": "4ad8e9a3-91f8-4e0d-81a4-82d6346d52fd",
   "metadata": {},
   "outputs": [
    {
     "data": {
      "text/html": [
       "<div>\n",
       "<style scoped>\n",
       "    .dataframe tbody tr th:only-of-type {\n",
       "        vertical-align: middle;\n",
       "    }\n",
       "\n",
       "    .dataframe tbody tr th {\n",
       "        vertical-align: top;\n",
       "    }\n",
       "\n",
       "    .dataframe thead th {\n",
       "        text-align: right;\n",
       "    }\n",
       "</style>\n",
       "<table border=\"1\" class=\"dataframe\">\n",
       "  <thead>\n",
       "    <tr style=\"text-align: right;\">\n",
       "      <th></th>\n",
       "      <th>state</th>\n",
       "      <th>city</th>\n",
       "      <th>restaurant_name</th>\n",
       "      <th>location</th>\n",
       "      <th>category</th>\n",
       "      <th>dish_name</th>\n",
       "      <th>price</th>\n",
       "      <th>rating</th>\n",
       "      <th>rating_count</th>\n",
       "    </tr>\n",
       "  </thead>\n",
       "  <tbody>\n",
       "    <tr>\n",
       "      <th>563</th>\n",
       "      <td>Karnataka</td>\n",
       "      <td>Bengaluru</td>\n",
       "      <td>Pizza Hut</td>\n",
       "      <td>Kanakapura Road</td>\n",
       "      <td>Recommended</td>\n",
       "      <td>Bold BBQ Veggie Thin n Crispy</td>\n",
       "      <td>614.0</td>\n",
       "      <td>4.6</td>\n",
       "      <td>7.0</td>\n",
       "    </tr>\n",
       "    <tr>\n",
       "      <th>592</th>\n",
       "      <td>Karnataka</td>\n",
       "      <td>Bengaluru</td>\n",
       "      <td>Pizza Hut</td>\n",
       "      <td>Kanakapura Road</td>\n",
       "      <td>Thin n Crispy Pizzas</td>\n",
       "      <td>Bold BBQ Veggie Thin n Crispy</td>\n",
       "      <td>614.0</td>\n",
       "      <td>4.6</td>\n",
       "      <td>7.0</td>\n",
       "    </tr>\n",
       "    <tr>\n",
       "      <th>593</th>\n",
       "      <td>Karnataka</td>\n",
       "      <td>Bengaluru</td>\n",
       "      <td>Pizza Hut</td>\n",
       "      <td>Kanakapura Road</td>\n",
       "      <td>Thin n Crispy Pizzas</td>\n",
       "      <td>Tandoori Paneer Thin n Crispy</td>\n",
       "      <td>614.0</td>\n",
       "      <td>5.0</td>\n",
       "      <td>6.0</td>\n",
       "    </tr>\n",
       "    <tr>\n",
       "      <th>594</th>\n",
       "      <td>Karnataka</td>\n",
       "      <td>Bengaluru</td>\n",
       "      <td>Pizza Hut</td>\n",
       "      <td>Kanakapura Road</td>\n",
       "      <td>Thin n Crispy Pizzas</td>\n",
       "      <td>Mexican Fiesta Thin n Crispy</td>\n",
       "      <td>614.0</td>\n",
       "      <td>3.8</td>\n",
       "      <td>1.0</td>\n",
       "    </tr>\n",
       "    <tr>\n",
       "      <th>595</th>\n",
       "      <td>Karnataka</td>\n",
       "      <td>Bengaluru</td>\n",
       "      <td>Pizza Hut</td>\n",
       "      <td>Kanakapura Road</td>\n",
       "      <td>Thin n Crispy Pizzas</td>\n",
       "      <td>Dhabe Da Keema Thin n Crispy</td>\n",
       "      <td>614.0</td>\n",
       "      <td>0.0</td>\n",
       "      <td>0.0</td>\n",
       "    </tr>\n",
       "    <tr>\n",
       "      <th>...</th>\n",
       "      <td>...</td>\n",
       "      <td>...</td>\n",
       "      <td>...</td>\n",
       "      <td>...</td>\n",
       "      <td>...</td>\n",
       "      <td>...</td>\n",
       "      <td>...</td>\n",
       "      <td>...</td>\n",
       "      <td>...</td>\n",
       "    </tr>\n",
       "    <tr>\n",
       "      <th>197116</th>\n",
       "      <td>Sikkim</td>\n",
       "      <td>Gangtok</td>\n",
       "      <td>Domino's Pizza</td>\n",
       "      <td>DISTRICT COURT</td>\n",
       "      <td>Value Meals</td>\n",
       "      <td>Ultimate Cheese Burst Deluxe Combo (N Veg)</td>\n",
       "      <td>614.0</td>\n",
       "      <td>0.0</td>\n",
       "      <td>0.0</td>\n",
       "    </tr>\n",
       "    <tr>\n",
       "      <th>197117</th>\n",
       "      <td>Sikkim</td>\n",
       "      <td>Gangtok</td>\n",
       "      <td>Domino's Pizza</td>\n",
       "      <td>DISTRICT COURT</td>\n",
       "      <td>Value Meals</td>\n",
       "      <td>Ultimate Cheese Burst Premium Combo (Veg)</td>\n",
       "      <td>614.0</td>\n",
       "      <td>0.0</td>\n",
       "      <td>0.0</td>\n",
       "    </tr>\n",
       "    <tr>\n",
       "      <th>197118</th>\n",
       "      <td>Sikkim</td>\n",
       "      <td>Gangtok</td>\n",
       "      <td>Domino's Pizza</td>\n",
       "      <td>DISTRICT COURT</td>\n",
       "      <td>Value Meals</td>\n",
       "      <td>Meal for 4: Veg Cheesy Pizza</td>\n",
       "      <td>614.0</td>\n",
       "      <td>0.0</td>\n",
       "      <td>0.0</td>\n",
       "    </tr>\n",
       "    <tr>\n",
       "      <th>197120</th>\n",
       "      <td>Sikkim</td>\n",
       "      <td>Gangtok</td>\n",
       "      <td>Domino's Pizza</td>\n",
       "      <td>DISTRICT COURT</td>\n",
       "      <td>Value Meals</td>\n",
       "      <td>Meal for 2: Veg Paradise &amp; Farmhouse</td>\n",
       "      <td>614.0</td>\n",
       "      <td>0.0</td>\n",
       "      <td>0.0</td>\n",
       "    </tr>\n",
       "    <tr>\n",
       "      <th>197287</th>\n",
       "      <td>Sikkim</td>\n",
       "      <td>Gangtok</td>\n",
       "      <td>Hot Stuff Fast Food</td>\n",
       "      <td>Gangtok</td>\n",
       "      <td>Must Try Combos</td>\n",
       "      <td>2 Egg Fried Rice + 3 Chicken Manchurian 6 Pcs ...</td>\n",
       "      <td>614.0</td>\n",
       "      <td>0.0</td>\n",
       "      <td>0.0</td>\n",
       "    </tr>\n",
       "  </tbody>\n",
       "</table>\n",
       "<p>9518 rows × 9 columns</p>\n",
       "</div>"
      ],
      "text/plain": [
       "            state       city      restaurant_name         location  \\\n",
       "563     Karnataka  Bengaluru            Pizza Hut  Kanakapura Road   \n",
       "592     Karnataka  Bengaluru            Pizza Hut  Kanakapura Road   \n",
       "593     Karnataka  Bengaluru            Pizza Hut  Kanakapura Road   \n",
       "594     Karnataka  Bengaluru            Pizza Hut  Kanakapura Road   \n",
       "595     Karnataka  Bengaluru            Pizza Hut  Kanakapura Road   \n",
       "...           ...        ...                  ...              ...   \n",
       "197116     Sikkim    Gangtok       Domino's Pizza   DISTRICT COURT   \n",
       "197117     Sikkim    Gangtok       Domino's Pizza   DISTRICT COURT   \n",
       "197118     Sikkim    Gangtok       Domino's Pizza   DISTRICT COURT   \n",
       "197120     Sikkim    Gangtok       Domino's Pizza   DISTRICT COURT   \n",
       "197287     Sikkim    Gangtok  Hot Stuff Fast Food          Gangtok   \n",
       "\n",
       "                    category  \\\n",
       "563              Recommended   \n",
       "592     Thin n Crispy Pizzas   \n",
       "593     Thin n Crispy Pizzas   \n",
       "594     Thin n Crispy Pizzas   \n",
       "595     Thin n Crispy Pizzas   \n",
       "...                      ...   \n",
       "197116           Value Meals   \n",
       "197117           Value Meals   \n",
       "197118           Value Meals   \n",
       "197120           Value Meals   \n",
       "197287       Must Try Combos   \n",
       "\n",
       "                                                dish_name  price  rating  \\\n",
       "563                         Bold BBQ Veggie Thin n Crispy  614.0     4.6   \n",
       "592                         Bold BBQ Veggie Thin n Crispy  614.0     4.6   \n",
       "593                         Tandoori Paneer Thin n Crispy  614.0     5.0   \n",
       "594                          Mexican Fiesta Thin n Crispy  614.0     3.8   \n",
       "595                          Dhabe Da Keema Thin n Crispy  614.0     0.0   \n",
       "...                                                   ...    ...     ...   \n",
       "197116         Ultimate Cheese Burst Deluxe Combo (N Veg)  614.0     0.0   \n",
       "197117          Ultimate Cheese Burst Premium Combo (Veg)  614.0     0.0   \n",
       "197118                       Meal for 4: Veg Cheesy Pizza  614.0     0.0   \n",
       "197120               Meal for 2: Veg Paradise & Farmhouse  614.0     0.0   \n",
       "197287  2 Egg Fried Rice + 3 Chicken Manchurian 6 Pcs ...  614.0     0.0   \n",
       "\n",
       "        rating_count  \n",
       "563              7.0  \n",
       "592              7.0  \n",
       "593              6.0  \n",
       "594              1.0  \n",
       "595              0.0  \n",
       "...              ...  \n",
       "197116           0.0  \n",
       "197117           0.0  \n",
       "197118           0.0  \n",
       "197120           0.0  \n",
       "197287           0.0  \n",
       "\n",
       "[9518 rows x 9 columns]"
      ]
     },
     "execution_count": 60,
     "metadata": {},
     "output_type": "execute_result"
    }
   ],
   "source": [
    "df[df[\"price\"]==614.0]"
   ]
  },
  {
   "cell_type": "code",
   "execution_count": 61,
   "id": "ef3b6fc3-0e40-42b0-866d-34eebdcebdab",
   "metadata": {},
   "outputs": [
    {
     "data": {
      "text/plain": [
       "rating\n",
       "0.0    75490\n",
       "4.3    11299\n",
       "4.6    10517\n",
       "4.4    10431\n",
       "4.5     9627\n",
       "5.0     9060\n",
       "4.7     8781\n",
       "4.8     8502\n",
       "4.2     7922\n",
       "4.1     6909\n",
       "4.9     5528\n",
       "4.0     4846\n",
       "3.9     3883\n",
       "3.8     3850\n",
       "3.7     2627\n",
       "3.6     1960\n",
       "3.5     1825\n",
       "3.4     1301\n",
       "3.3     1243\n",
       "3.2      972\n",
       "3.0      726\n",
       "3.1      675\n",
       "2.8      538\n",
       "2.9      530\n",
       "2.7      422\n",
       "2.6      300\n",
       "2.5      281\n",
       "2.0      244\n",
       "2.4      229\n",
       "2.3      223\n",
       "2.2      207\n",
       "2.1      159\n",
       "1.5       64\n",
       "1.8       53\n",
       "1.9       48\n",
       "1.6       30\n",
       "1.7       24\n",
       "Name: count, dtype: int64"
      ]
     },
     "execution_count": 61,
     "metadata": {},
     "output_type": "execute_result"
    }
   ],
   "source": [
    "df.rating.value_counts()"
   ]
  },
  {
   "cell_type": "markdown",
   "id": "20614763-5405-4751-a2ec-6277556f474e",
   "metadata": {},
   "source": [
    "# Document your understanding of what each column represents"
   ]
  },
  {
   "cell_type": "markdown",
   "id": "6a4293fe-0478-43d3-9fb5-3c7bdbbe8362",
   "metadata": {},
   "source": [
    "# Document\n",
    "## states column:\n",
    "- the state column represent in which the state order is placed in india.\n",
    "- I obsereved ,karnataka state got more order among all the states in india .the lowest orders place in sikkim state.\n",
    "- the telangana,delhi,tamilnaidu  relatively similar order placed.and these states got more than 70% orders of karantaka.\n",
    "- level of states got order\n",
    "   - low orders: Mizoram,Nagaland,Sikkim\n",
    "   - medium orders: Meghalaya,Jharkhand,Uttarakhand,Himachal Pradesh,Assam,Goa,Kerala,Chhattisgarh,Odisha,Haryana,Manipur                     Bihar,Jammu and Kashmir .\n",
    "   - high orders:  Maharashtra ,Telangana,Delhi,Tamil Nadu,Rajasthan,Uttar Pradesh ,West Bengal,Punjab\n",
    "\n",
    "## Cities column:\n",
    "- the cities column also represents in which city order  on the state.\n",
    "- the states parllel cities got orders.in this data cities are capital cities of the state.\n",
    "\n",
    "## location column:\n",
    "- the location repressented in which located location resturant get order.\n",
    "- In Gomti Nagar location placed more orders.\n",
    "- In faridabad location placed minimu orders around all location\n",
    "- more order placed locations are located in karantaka.\n",
    "\n",
    "## category column:\n",
    "- category column represents in which category of dish ordered.\n",
    "- Recommened category got more orders when compared to other categories\n",
    "- the minimum order getting categories are 336 categories with 1 order\n",
    "\n",
    "## dish_name column:\n",
    "- dish column represents  which dish the person ordered.\n",
    "- the dish column nearly 59064 are order in this data set.\n",
    "- choco lava cake got more orders\n",
    "- top 5 order dishes are choco lava cake,veg fired rice,panner butter masala,chicken sausage,jeera juice.\n",
    "\n",
    "## price column:\n",
    "- the price column represent the price of  dish\n",
    "- the price of the items in the range of 0.95 to 614 rupees after ouliers capping\n",
    "- the lowest price items is Tomato Ketchup.\n",
    "- the highest price item is Bold BBQ Veggie Thin n Crispy and more.\n",
    "\n",
    "## Rating column:\n",
    "- the rating columns represents the rating given by the person to the dish\n",
    "- the rating in the range of 0 to 5\n",
    "- most dishes got 4.3 rating other than 0.0 rating\n",
    "      "
   ]
  },
  {
   "cell_type": "markdown",
   "id": "4d9a78c0-9642-46bc-80e0-d24d4958735e",
   "metadata": {},
   "source": [
    "# 3. Generate Questions & Answers:"
   ]
  },
  {
   "cell_type": "markdown",
   "id": "1122be06-a3bf-4cb1-bb46-211a40fff8a6",
   "metadata": {},
   "source": [
    "# Based on your exploration, create at least 10 meaningful questions and Answer those questions using Pandas functions."
   ]
  },
  {
   "cell_type": "markdown",
   "id": "46239441-c412-45ca-a320-a3f0efc2f9f5",
   "metadata": {},
   "source": [
    "# questions\n",
    "- which state getting more orders?\n",
    "- which state getting low orders?\n",
    "- what percentage of orders covered by karantaka?\n",
    "- top 3 states who got order more?\n",
    "- top 10 location give more orders?\n",
    "- which category got more orders?\n",
    "- which category got  low orders?\n",
    "- what are the top 5  categories gives more orders?\n",
    "- give name of the dish get more orders?\n",
    "- what are top 5 dishes ordered more?\n",
    "- whic category of dishes ordered most?\n",
    "- please give top 3 more rateded items names.?\n",
    "- please give more number of rating  get dish and location?"
   ]
  },
  {
   "cell_type": "code",
   "execution_count": 113,
   "id": "a134caf9-753b-4119-a56d-649e27379429",
   "metadata": {},
   "outputs": [
    {
     "data": {
      "text/plain": [
       "'Karnataka'"
      ]
     },
     "execution_count": 113,
     "metadata": {},
     "output_type": "execute_result"
    }
   ],
   "source": [
    "# which state getting more orders?\n",
    "df.state.value_counts().idxmax()"
   ]
  },
  {
   "cell_type": "markdown",
   "id": "f84de5f0-353a-463d-aa2e-d99a3f749758",
   "metadata": {},
   "source": [
    "# karantaka got more orders"
   ]
  },
  {
   "cell_type": "code",
   "execution_count": 63,
   "id": "730690aa-dd3b-41b9-887b-417df6a67aec",
   "metadata": {},
   "outputs": [
    {
     "data": {
      "text/plain": [
       "'Sikkim'"
      ]
     },
     "execution_count": 63,
     "metadata": {},
     "output_type": "execute_result"
    }
   ],
   "source": [
    "# which state getting low orders?\n",
    "df.state.value_counts().idxmin()"
   ]
  },
  {
   "cell_type": "markdown",
   "id": "54d788ba-d8af-48c4-aae8-c25e21803dc3",
   "metadata": {},
   "source": [
    "# sikkim got less orders"
   ]
  },
  {
   "cell_type": "code",
   "execution_count": 64,
   "id": "b35635c6-c460-416e-87de-7437506f4ed1",
   "metadata": {},
   "outputs": [
    {
     "data": {
      "text/plain": [
       "9.590437264146011"
      ]
     },
     "execution_count": 64,
     "metadata": {},
     "output_type": "execute_result"
    }
   ],
   "source": [
    "# what percentage of orders covered by karantaka?\n",
    "total_orders=len(df)\n",
    "karantaka_count=len(df[df['state']=='Karnataka'])\n",
    "percent_karantaka=(karantaka_count/total_orders)*100\n",
    "percent_karantaka"
   ]
  },
  {
   "cell_type": "markdown",
   "id": "c61770ba-7fb1-4485-b34c-be9c7e0ca3a4",
   "metadata": {},
   "source": [
    "# Around 9.5 percentage order from karantaka on overall"
   ]
  },
  {
   "cell_type": "code",
   "execution_count": 65,
   "id": "70f944da-e517-4897-b51b-4c6a77bd0ae1",
   "metadata": {},
   "outputs": [
    {
     "data": {
      "text/plain": [
       "state\n",
       "Karnataka      18349\n",
       "Maharashtra    10467\n",
       "Telangana      10279\n",
       "Name: count, dtype: int64"
      ]
     },
     "execution_count": 65,
     "metadata": {},
     "output_type": "execute_result"
    }
   ],
   "source": [
    "# top 3 states  got order more?\n",
    "df.state.value_counts().sort_values(ascending=False).head(3)"
   ]
  },
  {
   "cell_type": "markdown",
   "id": "6adcd3ac-d803-4d94-9793-fdfea1efa1dd",
   "metadata": {},
   "source": [
    "# the order get ranking is 1.Karnataka  18349 2.Maharashtra  10467 3.Telangana  10279"
   ]
  },
  {
   "cell_type": "code",
   "execution_count": 66,
   "id": "5d610787-aa27-4b84-a8f4-b6dfd8c202aa",
   "metadata": {},
   "outputs": [
    {
     "data": {
      "text/plain": [
       "location\n",
       "Gomti Nagar      2054\n",
       "Nerul            2034\n",
       "Yelahanka        1990\n",
       "Police Bazar     1814\n",
       "Vasant Kunj      1789\n",
       "Whitefield       1727\n",
       "Thane West       1711\n",
       "Jagatpura        1662\n",
       "Gangtok          1544\n",
       "Shankar Nagar    1460\n",
       "Name: count, dtype: int64"
      ]
     },
     "execution_count": 66,
     "metadata": {},
     "output_type": "execute_result"
    }
   ],
   "source": [
    "# top 10 location give more orders?\n",
    "df.location.value_counts().sort_values(ascending=False).head(10)"
   ]
  },
  {
   "cell_type": "markdown",
   "id": "07366ddd-90f4-4e62-b8cc-3305025e1f0f",
   "metadata": {},
   "source": [
    "# These are top 10 order getting locations Gomti Nagar,Nerul,Yelahanka,Police Bazar,Vasant Kunj,Whitefield ,Thane West,Jagatpura,Gangtok ,Shankar Nagar    1460."
   ]
  },
  {
   "cell_type": "code",
   "execution_count": 67,
   "id": "95bba4b9-5241-4dcd-a699-4a63e13e727d",
   "metadata": {},
   "outputs": [
    {
     "data": {
      "text/plain": [
       "'Recommended'"
      ]
     },
     "execution_count": 67,
     "metadata": {},
     "output_type": "execute_result"
    }
   ],
   "source": [
    "# which category got more orders?\n",
    "df.category.value_counts().sort_values(ascending=False).idxmax()"
   ]
  },
  {
   "cell_type": "markdown",
   "id": "1592e5aa-3217-44d1-b6e2-200c66c75cca",
   "metadata": {},
   "source": [
    "# The recommended category got more orders"
   ]
  },
  {
   "cell_type": "code",
   "execution_count": 68,
   "id": "1aa2a6e6-2f3e-40c8-9c49-9586d52f38b5",
   "metadata": {},
   "outputs": [
    {
     "data": {
      "text/plain": [
       "'Pistachio Chocolate Bar 125Gm'"
      ]
     },
     "execution_count": 68,
     "metadata": {},
     "output_type": "execute_result"
    }
   ],
   "source": [
    "# which category got  low orders?\n",
    "df.category.value_counts().sort_values(ascending=False).idxmin()"
   ]
  },
  {
   "cell_type": "markdown",
   "id": "defbb3a7-70df-479e-a6cb-4e99ed0d0d95",
   "metadata": {},
   "source": [
    "# Pistachio Chocolate Bar 125Gm  category get minimum order with only one order "
   ]
  },
  {
   "cell_type": "code",
   "execution_count": 72,
   "id": "aa0ae969-62f6-44b7-a57e-ad6b3c752251",
   "metadata": {},
   "outputs": [
    {
     "data": {
      "text/plain": [
       "category\n",
       "Recommended                    23243\n",
       "Main Course                     2953\n",
       "Desserts                        2844\n",
       "Beverages                       2405\n",
       "McSaver Combos (2 Pc Meals)     1729\n",
       "Name: count, dtype: int64"
      ]
     },
     "execution_count": 72,
     "metadata": {},
     "output_type": "execute_result"
    }
   ],
   "source": [
    "# top 5 category give more orders?\n",
    "df.category.value_counts().sort_values(ascending=False).iloc[:5]"
   ]
  },
  {
   "cell_type": "code",
   "execution_count": 73,
   "id": "8910cd35-a17a-4d8e-81a4-9fd76df7662c",
   "metadata": {},
   "outputs": [
    {
     "data": {
      "text/html": [
       "<div>\n",
       "<style scoped>\n",
       "    .dataframe tbody tr th:only-of-type {\n",
       "        vertical-align: middle;\n",
       "    }\n",
       "\n",
       "    .dataframe tbody tr th {\n",
       "        vertical-align: top;\n",
       "    }\n",
       "\n",
       "    .dataframe thead th {\n",
       "        text-align: right;\n",
       "    }\n",
       "</style>\n",
       "<table border=\"1\" class=\"dataframe\">\n",
       "  <thead>\n",
       "    <tr style=\"text-align: right;\">\n",
       "      <th></th>\n",
       "      <th>state</th>\n",
       "      <th>city</th>\n",
       "      <th>restaurant_name</th>\n",
       "      <th>location</th>\n",
       "      <th>category</th>\n",
       "      <th>dish_name</th>\n",
       "      <th>price</th>\n",
       "      <th>rating</th>\n",
       "      <th>rating_count</th>\n",
       "    </tr>\n",
       "  </thead>\n",
       "  <tbody>\n",
       "    <tr>\n",
       "      <th>0</th>\n",
       "      <td>Karnataka</td>\n",
       "      <td>Bengaluru</td>\n",
       "      <td>Anand Sweets &amp; Savouries</td>\n",
       "      <td>Rajarajeshwari Nagar</td>\n",
       "      <td>Snack</td>\n",
       "      <td>Butter Murukku-200gm</td>\n",
       "      <td>133.9</td>\n",
       "      <td>0.0</td>\n",
       "      <td>0.0</td>\n",
       "    </tr>\n",
       "    <tr>\n",
       "      <th>1</th>\n",
       "      <td>Karnataka</td>\n",
       "      <td>Bengaluru</td>\n",
       "      <td>Srinidhi Sagar Deluxe</td>\n",
       "      <td>Kengeri</td>\n",
       "      <td>Recommended</td>\n",
       "      <td>Badam Milk</td>\n",
       "      <td>52.0</td>\n",
       "      <td>4.5</td>\n",
       "      <td>25.0</td>\n",
       "    </tr>\n",
       "  </tbody>\n",
       "</table>\n",
       "</div>"
      ],
      "text/plain": [
       "       state       city           restaurant_name              location  \\\n",
       "0  Karnataka  Bengaluru  Anand Sweets & Savouries  Rajarajeshwari Nagar   \n",
       "1  Karnataka  Bengaluru     Srinidhi Sagar Deluxe               Kengeri   \n",
       "\n",
       "      category             dish_name  price  rating  rating_count  \n",
       "0        Snack  Butter Murukku-200gm  133.9     0.0           0.0  \n",
       "1  Recommended            Badam Milk   52.0     4.5          25.0  "
      ]
     },
     "execution_count": 73,
     "metadata": {},
     "output_type": "execute_result"
    }
   ],
   "source": [
    "df.head(2)"
   ]
  },
  {
   "cell_type": "code",
   "execution_count": 86,
   "id": "236d8c06-89e3-4f41-a3cd-78758168236e",
   "metadata": {},
   "outputs": [
    {
     "data": {
      "text/plain": [
       "'Choco Lava Cake'"
      ]
     },
     "execution_count": 86,
     "metadata": {},
     "output_type": "execute_result"
    }
   ],
   "source": [
    "#  give name of the dish get more orders?\n",
    "df.dish_name.value_counts().sort_values(ascending=False).idxmax()\n"
   ]
  },
  {
   "cell_type": "markdown",
   "id": "b30e0901-0120-4975-8671-981e048c5efd",
   "metadata": {},
   "source": [
    "# Choco Lava Cake more ordered item"
   ]
  },
  {
   "cell_type": "code",
   "execution_count": 88,
   "id": "68df616f-3bf1-4c95-bba1-b4e7027b770e",
   "metadata": {},
   "outputs": [
    {
     "data": {
      "text/plain": [
       "dish_name\n",
       "Choco Lava Cake         291\n",
       "Veg Fried Rice          240\n",
       "Paneer Butter Masala    225\n",
       "Chicken Sausage         224\n",
       "Jeera Rice              214\n",
       "Name: count, dtype: int64"
      ]
     },
     "execution_count": 88,
     "metadata": {},
     "output_type": "execute_result"
    }
   ],
   "source": [
    "# - what are top 5 dishes ordered more?\n",
    "df.dish_name.value_counts().sort_values(ascending=False).iloc[:5]"
   ]
  },
  {
   "cell_type": "markdown",
   "id": "4c129e61-0edd-4441-a975-9e1a348db133",
   "metadata": {},
   "source": [
    "# These are the top 5 dishes 1.Choco Lava Cake  2.Veg Fried Rice  3.Paneer Butter Masala   4.Chicken Sausage   5.Jeera Rice     "
   ]
  },
  {
   "cell_type": "code",
   "execution_count": 91,
   "id": "6d236b82-b8a4-4525-b8c8-7264139f11aa",
   "metadata": {},
   "outputs": [
    {
     "data": {
      "text/plain": [
       "dish_name\n",
       "Chicken Extravaganza Pizza and Garlic Knots Combo    614.000000\n",
       "Chicken Full Smash Pizza [BIG 10\"]                   614.000000\n",
       "Chicken Dum Biryani Combo                            614.000000\n",
       " House Party wali   Meal-Non-veg                     614.000000\n",
       " Kosha Mangsho                                       614.000000\n",
       "                                                        ...    \n",
       "Ketchup Sacthe                                         1.500000\n",
       "Tomato Ketchup                                         1.155114\n",
       "Tomato Ketchup Sachet                                  1.000000\n",
       "DIY Fresh Foodie Bag                                   1.000000\n",
       "Ketchup                                                0.952174\n",
       "Name: price, Length: 59064, dtype: float64"
      ]
     },
     "execution_count": 91,
     "metadata": {},
     "output_type": "execute_result"
    }
   ],
   "source": [
    "# what are the average orders of  dishes?\n",
    "df.groupby(\"dish_name\")[\"price\"].mean().sort_values(ascending=False)"
   ]
  },
  {
   "cell_type": "code",
   "execution_count": 93,
   "id": "8c843b46-e76c-4535-8cf7-1bb432a00d09",
   "metadata": {},
   "outputs": [
    {
     "data": {
      "text/plain": [
       "'Recommended'"
      ]
     },
     "execution_count": 93,
     "metadata": {},
     "output_type": "execute_result"
    }
   ],
   "source": [
    "# which category of dishes ordered most?\n",
    "df.groupby(by=\"category\")[\"dish_name\"].count().idxmax()"
   ]
  },
  {
   "cell_type": "code",
   "execution_count": 97,
   "id": "efd19ef4-4f8c-4a03-91f1-039b064bb13b",
   "metadata": {},
   "outputs": [
    {
     "data": {
      "text/plain": [
       "1                                                Badam Milk\n",
       "2                                            Chow Chow Bath\n",
       "3                                               Kesari Bath\n",
       "4                                                Mix Raitha\n",
       "5                                    Srinidhi Sagar Special\n",
       "                                ...                        \n",
       "197320    Veg chowmein                                  ...\n",
       "197321                                        Soya chowmein\n",
       "197322                                      Paneer chowmein\n",
       "197323    Veg thukpa                                    ...\n",
       "197324                                         Mix chowmien\n",
       "Name: dish_name, Length: 23243, dtype: object"
      ]
     },
     "execution_count": 97,
     "metadata": {},
     "output_type": "execute_result"
    }
   ],
   "source": [
    "# what are those dishes\n",
    "df[df.category==\"Recommended\"][\"dish_name\"]"
   ]
  },
  {
   "cell_type": "code",
   "execution_count": 98,
   "id": "70cf48de-da5b-42fe-a98d-e998a6b666fa",
   "metadata": {},
   "outputs": [
    {
     "data": {
      "text/plain": [
       "23243"
      ]
     },
     "execution_count": 98,
     "metadata": {},
     "output_type": "execute_result"
    }
   ],
   "source": [
    "# count of those dishes\n",
    "len(df[df.category==\"Recommended\"][\"dish_name\"])"
   ]
  },
  {
   "cell_type": "code",
   "execution_count": 108,
   "id": "fe31c59e-2150-4fec-ac6f-57c08efe7ea6",
   "metadata": {},
   "outputs": [
    {
     "data": {
      "text/html": [
       "<div>\n",
       "<style scoped>\n",
       "    .dataframe tbody tr th:only-of-type {\n",
       "        vertical-align: middle;\n",
       "    }\n",
       "\n",
       "    .dataframe tbody tr th {\n",
       "        vertical-align: top;\n",
       "    }\n",
       "\n",
       "    .dataframe thead th {\n",
       "        text-align: right;\n",
       "    }\n",
       "</style>\n",
       "<table border=\"1\" class=\"dataframe\">\n",
       "  <thead>\n",
       "    <tr style=\"text-align: right;\">\n",
       "      <th></th>\n",
       "      <th>dish_name</th>\n",
       "      <th>rating</th>\n",
       "    </tr>\n",
       "  </thead>\n",
       "  <tbody>\n",
       "    <tr>\n",
       "      <th>165729</th>\n",
       "      <td>Schweppes Water bottle</td>\n",
       "      <td>5.0</td>\n",
       "    </tr>\n",
       "    <tr>\n",
       "      <th>165719</th>\n",
       "      <td>Ice Americano Coffee</td>\n",
       "      <td>5.0</td>\n",
       "    </tr>\n",
       "    <tr>\n",
       "      <th>165709</th>\n",
       "      <td>Korean Spice Mix</td>\n",
       "      <td>5.0</td>\n",
       "    </tr>\n",
       "  </tbody>\n",
       "</table>\n",
       "</div>"
      ],
      "text/plain": [
       "                     dish_name  rating\n",
       "165729  Schweppes Water bottle     5.0\n",
       "165719   Ice Americano Coffee      5.0\n",
       "165709        Korean Spice Mix     5.0"
      ]
     },
     "execution_count": 108,
     "metadata": {},
     "output_type": "execute_result"
    }
   ],
   "source": [
    "# please give more number of rating  get dish and location?\n",
    "df[[\"dish_name\",\"rating\"]].sort_values(by=\"rating\",ascending=False).head(3)"
   ]
  },
  {
   "cell_type": "code",
   "execution_count": 109,
   "id": "e9f6f518-e0db-4f0f-8ac8-bb33ec1e122a",
   "metadata": {},
   "outputs": [
    {
     "data": {
      "text/html": [
       "<div>\n",
       "<style scoped>\n",
       "    .dataframe tbody tr th:only-of-type {\n",
       "        vertical-align: middle;\n",
       "    }\n",
       "\n",
       "    .dataframe tbody tr th {\n",
       "        vertical-align: top;\n",
       "    }\n",
       "\n",
       "    .dataframe thead th {\n",
       "        text-align: right;\n",
       "    }\n",
       "</style>\n",
       "<table border=\"1\" class=\"dataframe\">\n",
       "  <thead>\n",
       "    <tr style=\"text-align: right;\">\n",
       "      <th></th>\n",
       "      <th>state</th>\n",
       "      <th>city</th>\n",
       "      <th>restaurant_name</th>\n",
       "      <th>location</th>\n",
       "      <th>category</th>\n",
       "      <th>dish_name</th>\n",
       "      <th>price</th>\n",
       "      <th>rating</th>\n",
       "      <th>rating_count</th>\n",
       "    </tr>\n",
       "  </thead>\n",
       "  <tbody>\n",
       "    <tr>\n",
       "      <th>0</th>\n",
       "      <td>Karnataka</td>\n",
       "      <td>Bengaluru</td>\n",
       "      <td>Anand Sweets &amp; Savouries</td>\n",
       "      <td>Rajarajeshwari Nagar</td>\n",
       "      <td>Snack</td>\n",
       "      <td>Butter Murukku-200gm</td>\n",
       "      <td>133.9</td>\n",
       "      <td>0.0</td>\n",
       "      <td>0.0</td>\n",
       "    </tr>\n",
       "    <tr>\n",
       "      <th>1</th>\n",
       "      <td>Karnataka</td>\n",
       "      <td>Bengaluru</td>\n",
       "      <td>Srinidhi Sagar Deluxe</td>\n",
       "      <td>Kengeri</td>\n",
       "      <td>Recommended</td>\n",
       "      <td>Badam Milk</td>\n",
       "      <td>52.0</td>\n",
       "      <td>4.5</td>\n",
       "      <td>25.0</td>\n",
       "    </tr>\n",
       "    <tr>\n",
       "      <th>2</th>\n",
       "      <td>Karnataka</td>\n",
       "      <td>Bengaluru</td>\n",
       "      <td>Srinidhi Sagar Deluxe</td>\n",
       "      <td>Kengeri</td>\n",
       "      <td>Recommended</td>\n",
       "      <td>Chow Chow Bath</td>\n",
       "      <td>117.0</td>\n",
       "      <td>4.7</td>\n",
       "      <td>37.5</td>\n",
       "    </tr>\n",
       "  </tbody>\n",
       "</table>\n",
       "</div>"
      ],
      "text/plain": [
       "       state       city           restaurant_name              location  \\\n",
       "0  Karnataka  Bengaluru  Anand Sweets & Savouries  Rajarajeshwari Nagar   \n",
       "1  Karnataka  Bengaluru     Srinidhi Sagar Deluxe               Kengeri   \n",
       "2  Karnataka  Bengaluru     Srinidhi Sagar Deluxe               Kengeri   \n",
       "\n",
       "      category             dish_name  price  rating  rating_count  \n",
       "0        Snack  Butter Murukku-200gm  133.9     0.0           0.0  \n",
       "1  Recommended            Badam Milk   52.0     4.5          25.0  \n",
       "2  Recommended        Chow Chow Bath  117.0     4.7          37.5  "
      ]
     },
     "execution_count": 109,
     "metadata": {},
     "output_type": "execute_result"
    }
   ],
   "source": [
    "df.head(3)"
   ]
  },
  {
   "cell_type": "code",
   "execution_count": 112,
   "id": "b6456673-83d4-4d39-a980-ed312e05b723",
   "metadata": {},
   "outputs": [
    {
     "data": {
      "text/plain": [
       "dish_name       |OB Chicken Tikka\n",
       "location                yelahanka\n",
       "rating_count                 37.5\n",
       "dtype: object"
      ]
     },
     "execution_count": 112,
     "metadata": {},
     "output_type": "execute_result"
    }
   ],
   "source": [
    "# please give more number of rating  get dish and location?\n",
    "df[[\"dish_name\",\"location\",\"rating_count\"]].sort_values(by=\"rating_count\").max()"
   ]
  },
  {
   "cell_type": "markdown",
   "id": "4879d5e5-c816-46b0-baa2-eddf446f8c85",
   "metadata": {},
   "source": [
    "# the  more rating_count  dish_name is OB Chicken Tikka,location is yelahanka ,rating_count with 37.5"
   ]
  },
  {
   "cell_type": "markdown",
   "id": "3dbe6b41-26de-450b-9b67-16bd463d2713",
   "metadata": {},
   "source": [
    "# 4. Perform Analysis:\n"
   ]
  },
  {
   "cell_type": "code",
   "execution_count": 115,
   "id": "4f1c79dd-3459-4146-96e4-199f0af84125",
   "metadata": {},
   "outputs": [
    {
     "data": {
      "text/plain": [
       "Index(['price', 'rating', 'rating_count'], dtype='object')"
      ]
     },
     "execution_count": 115,
     "metadata": {},
     "output_type": "execute_result"
    }
   ],
   "source": [
    "# checking correlation between numerical columns in the dataset\n",
    "numerical_cols=df.select_dtypes(include=np.number).columns\n",
    "numerical_cols"
   ]
  },
  {
   "cell_type": "code",
   "execution_count": 117,
   "id": "8093848b-d533-4ad1-b121-0f14c4cfa40f",
   "metadata": {},
   "outputs": [
    {
     "data": {
      "text/html": [
       "<div>\n",
       "<style scoped>\n",
       "    .dataframe tbody tr th:only-of-type {\n",
       "        vertical-align: middle;\n",
       "    }\n",
       "\n",
       "    .dataframe tbody tr th {\n",
       "        vertical-align: top;\n",
       "    }\n",
       "\n",
       "    .dataframe thead th {\n",
       "        text-align: right;\n",
       "    }\n",
       "</style>\n",
       "<table border=\"1\" class=\"dataframe\">\n",
       "  <thead>\n",
       "    <tr style=\"text-align: right;\">\n",
       "      <th></th>\n",
       "      <th>price</th>\n",
       "      <th>rating</th>\n",
       "      <th>rating_count</th>\n",
       "    </tr>\n",
       "  </thead>\n",
       "  <tbody>\n",
       "    <tr>\n",
       "      <th>price</th>\n",
       "      <td>1.000000</td>\n",
       "      <td>-0.107418</td>\n",
       "      <td>-0.155330</td>\n",
       "    </tr>\n",
       "    <tr>\n",
       "      <th>rating</th>\n",
       "      <td>-0.107418</td>\n",
       "      <td>1.000000</td>\n",
       "      <td>0.576857</td>\n",
       "    </tr>\n",
       "    <tr>\n",
       "      <th>rating_count</th>\n",
       "      <td>-0.155330</td>\n",
       "      <td>0.576857</td>\n",
       "      <td>1.000000</td>\n",
       "    </tr>\n",
       "  </tbody>\n",
       "</table>\n",
       "</div>"
      ],
      "text/plain": [
       "                 price    rating  rating_count\n",
       "price         1.000000 -0.107418     -0.155330\n",
       "rating       -0.107418  1.000000      0.576857\n",
       "rating_count -0.155330  0.576857      1.000000"
      ]
     },
     "execution_count": 117,
     "metadata": {},
     "output_type": "execute_result"
    }
   ],
   "source": [
    "df[numerical_cols].corr()"
   ]
  },
  {
   "cell_type": "markdown",
   "id": "1e287154-8e19-4c91-ac94-ae3c65be3c2c",
   "metadata": {},
   "source": [
    "# there is no correlation between price to rating and price to rating_count .but there is a weak postive correlation on rating and rating_count."
   ]
  },
  {
   "cell_type": "markdown",
   "id": "e65942c1-72ad-4124-9916-2b55c9ec4355",
   "metadata": {},
   "source": [
    "# 5. Summary & Insights: Write a short summary of your analysis.\n"
   ]
  },
  {
   "cell_type": "markdown",
   "id": "519b465e-55ac-487a-9a05-39e247dcc9eb",
   "metadata": {},
   "source": [
    "### Key Insights from Swiggy Dataset Analysis\n",
    "\n",
    "1. **State-level Orders**\n",
    "\n",
    "   * Karnataka has the highest number of orders.\n",
    "   * Sikkim has the lowest.\n",
    "   * A few states (Karnataka, Maharashtra, Telangana, Delhi, Tamil Nadu) dominate orders, showing concentration in metro regions.\n",
    "\n",
    "2. **City-level Trends**\n",
    "\n",
    "   * Bengaluru tops in city-level orders.\n",
    "   * Orders are mostly concentrated in capital cities.\n",
    "\n",
    "3. **Location Insights**\n",
    "\n",
    "   * Gomti Nagar (Lucknow) has the most orders among all locations.\n",
    "   * Some locations like Faridabad have very few orders.\n",
    "\n",
    "4. **Category Analysis**\n",
    "\n",
    "   * “Recommended” category dominates orders.\n",
    "   * Many niche categories have very few orders (over 300 categories with just 1 order).\n",
    "\n",
    "5. **Dish Preferences**\n",
    "\n",
    "   * Most ordered dish: **Choco Lava Cake**.\n",
    "   * Other top dishes: Veg Fried Rice, Paneer Butter Masala, Chicken Sausage, Jeera Rice.\n",
    "\n",
    "6. **Price Distribution**\n",
    "\n",
    "   * Dish prices range from ₹0.95 (e.g., Tomato Ketchup) to ₹614 (premium pizzas/meals).\n",
    "   * Average dish price ~₹252.\n",
    "\n",
    "7. **Ratings**\n",
    "\n",
    "   * Ratings range 0 to 5.\n",
    "   * Large number of dishes have 0 rating (not rated).\n",
    "   * Common positive ratings: 4.3, 4.5, 4.6.\n",
    "\n",
    "8. **Correlation Insights**\n",
    "\n",
    "   * **Price ↔ Rating**: Weak negative correlation (higher price doesn’t guarantee higher ratings).\n",
    "   * **Price ↔ Rating Count**: Weak negative correlation.\n",
    "   * **Rating ↔ Rating Count**: Moderate positive correlation (popular dishes with more ratings tend to have higher ratings).\n",
    "\n",
    "9. **Top-Rated Items**\n",
    "\n",
    "   * Examples: Schweppes Water Bottle, Ice Americano Coffee, Korean Spice Mix (all rated 5.0).\n",
    "\n",
    "10. **Most Reviewed Dish**\n",
    "\n",
    "* “OB Chicken Tikka” at Yelahanka had the highest rating count.\n",
    "\n",
    "---\n",
    "\n",
    "**Business Value**\n",
    "\n",
    "* Focus promotions on top-performing states and cities (Karnataka, Bengaluru).\n",
    "* Promote bestsellers like Choco Lava Cake across new markets.\n",
    "* Optimize pricing, as premium pricing doesn’t directly improve ratings.\n",
    "* Increase visibility of under-ordered categories/dishes to balance demand.\n"
   ]
  },
  {
   "cell_type": "code",
   "execution_count": null,
   "id": "cadc0d78-6588-4afa-bc55-c16d02a7f8bd",
   "metadata": {},
   "outputs": [],
   "source": []
  }
 ],
 "metadata": {
  "kernelspec": {
   "display_name": "Python 3 (ipykernel)",
   "language": "python",
   "name": "python3"
  },
  "language_info": {
   "codemirror_mode": {
    "name": "ipython",
    "version": 3
   },
   "file_extension": ".py",
   "mimetype": "text/x-python",
   "name": "python",
   "nbconvert_exporter": "python",
   "pygments_lexer": "ipython3",
   "version": "3.13.5"
  }
 },
 "nbformat": 4,
 "nbformat_minor": 5
}
